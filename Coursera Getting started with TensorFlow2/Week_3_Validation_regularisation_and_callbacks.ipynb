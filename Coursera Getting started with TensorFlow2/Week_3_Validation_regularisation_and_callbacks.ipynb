{
  "nbformat": 4,
  "nbformat_minor": 0,
  "metadata": {
    "kernelspec": {
      "display_name": "Python 3",
      "language": "python",
      "name": "python3"
    },
    "language_info": {
      "codemirror_mode": {
        "name": "ipython",
        "version": 3
      },
      "file_extension": ".py",
      "mimetype": "text/x-python",
      "name": "python",
      "nbconvert_exporter": "python",
      "pygments_lexer": "ipython3",
      "version": "3.7.1"
    },
    "colab": {
      "name": "Week 3 Validation regularisation and callbacks.ipynb",
      "provenance": [],
      "collapsed_sections": [],
      "include_colab_link": true
    }
  },
  "cells": [
    {
      "cell_type": "markdown",
      "metadata": {
        "id": "view-in-github",
        "colab_type": "text"
      },
      "source": [
        "<a href=\"https://colab.research.google.com/github/TChen90/TensorFlow/blob/master/Coursera%20Getting%20started%20with%20TensorFlow2/Week_3_Validation_regularisation_and_callbacks.ipynb\" target=\"_parent\"><img src=\"https://colab.research.google.com/assets/colab-badge.svg\" alt=\"Open In Colab\"/></a>"
      ]
    },
    {
      "cell_type": "code",
      "metadata": {
        "scrolled": true,
        "id": "uy7cWSi67H3t",
        "colab_type": "code",
        "outputId": "aedd5f4c-b535-4ea8-d514-147edd5088e2",
        "colab": {
          "base_uri": "https://localhost:8080/",
          "height": 34
        }
      },
      "source": [
        "import tensorflow as tf\n",
        "print(tf.__version__)"
      ],
      "execution_count": 0,
      "outputs": [
        {
          "output_type": "stream",
          "text": [
            "2.2.0-rc3\n"
          ],
          "name": "stdout"
        }
      ]
    },
    {
      "cell_type": "markdown",
      "metadata": {
        "id": "mGCJTTt47H3y",
        "colab_type": "text"
      },
      "source": [
        "# Validation, regularisation and callbacks"
      ]
    },
    {
      "cell_type": "markdown",
      "metadata": {
        "id": "0vVQ_RRH7H3z",
        "colab_type": "text"
      },
      "source": [
        " ## Coding tutorials\n",
        " #### [1. Validation sets](#coding_tutorial_1)\n",
        " #### [2. Model regularisation](#coding_tutorial_2)\n",
        " #### [3. Introduction to callbacks](#coding_tutorial_3)\n",
        " #### [4. Early stopping / patience](#coding_tutorial_4)"
      ]
    },
    {
      "cell_type": "markdown",
      "metadata": {
        "id": "ObrCd4nz7H30",
        "colab_type": "text"
      },
      "source": [
        "***\n",
        "<a id=\"coding_tutorial_1\"></a>\n",
        "## Validation sets"
      ]
    },
    {
      "cell_type": "markdown",
      "metadata": {
        "id": "hBlu9Uta7H31",
        "colab_type": "text"
      },
      "source": [
        "#### Load the data"
      ]
    },
    {
      "cell_type": "code",
      "metadata": {
        "id": "sNPZ5Yls7H32",
        "colab_type": "code",
        "outputId": "5d3e135c-8afe-4a01-a465-92a7ffd66c1b",
        "colab": {
          "base_uri": "https://localhost:8080/",
          "height": 683
        }
      },
      "source": [
        "# Load the diabetes dataset\n",
        "from sklearn.datasets import load_diabetes\n",
        "\n",
        "diabetes_dataset = load_diabetes()\n",
        "print(diabetes_dataset['DESCR'])"
      ],
      "execution_count": 0,
      "outputs": [
        {
          "output_type": "stream",
          "text": [
            ".. _diabetes_dataset:\n",
            "\n",
            "Diabetes dataset\n",
            "----------------\n",
            "\n",
            "Ten baseline variables, age, sex, body mass index, average blood\n",
            "pressure, and six blood serum measurements were obtained for each of n =\n",
            "442 diabetes patients, as well as the response of interest, a\n",
            "quantitative measure of disease progression one year after baseline.\n",
            "\n",
            "**Data Set Characteristics:**\n",
            "\n",
            "  :Number of Instances: 442\n",
            "\n",
            "  :Number of Attributes: First 10 columns are numeric predictive values\n",
            "\n",
            "  :Target: Column 11 is a quantitative measure of disease progression one year after baseline\n",
            "\n",
            "  :Attribute Information:\n",
            "      - Age\n",
            "      - Sex\n",
            "      - Body mass index\n",
            "      - Average blood pressure\n",
            "      - S1\n",
            "      - S2\n",
            "      - S3\n",
            "      - S4\n",
            "      - S5\n",
            "      - S6\n",
            "\n",
            "Note: Each of these 10 feature variables have been mean centered and scaled by the standard deviation times `n_samples` (i.e. the sum of squares of each column totals 1).\n",
            "\n",
            "Source URL:\n",
            "https://www4.stat.ncsu.edu/~boos/var.select/diabetes.html\n",
            "\n",
            "For more information see:\n",
            "Bradley Efron, Trevor Hastie, Iain Johnstone and Robert Tibshirani (2004) \"Least Angle Regression,\" Annals of Statistics (with discussion), 407-499.\n",
            "(https://web.stanford.edu/~hastie/Papers/LARS/LeastAngle_2002.pdf)\n"
          ],
          "name": "stdout"
        }
      ]
    },
    {
      "cell_type": "code",
      "metadata": {
        "id": "zVnJ1hon7H37",
        "colab_type": "code",
        "outputId": "ddadabb8-5059-4ad8-bc4e-094f0fa2e120",
        "colab": {
          "base_uri": "https://localhost:8080/",
          "height": 34
        }
      },
      "source": [
        "# Save the input and target variables\n",
        "print(diabetes_dataset.keys())\n",
        "\n",
        "data = diabetes_dataset['data']\n",
        "targets = diabetes_dataset['target']"
      ],
      "execution_count": 0,
      "outputs": [
        {
          "output_type": "stream",
          "text": [
            "dict_keys(['data', 'target', 'DESCR', 'feature_names', 'data_filename', 'target_filename'])\n"
          ],
          "name": "stdout"
        }
      ]
    },
    {
      "cell_type": "code",
      "metadata": {
        "id": "ZTT700rs7H4A",
        "colab_type": "code",
        "outputId": "df5ab700-bfdc-425d-995b-bd41f45f7424",
        "colab": {
          "base_uri": "https://localhost:8080/",
          "height": 1000
        }
      },
      "source": [
        "# Normalise the target data (this will make clearer training curves)\n",
        "targets = (targets - targets.mean(axis=0)) / targets.std()\n",
        "\n",
        "targets"
      ],
      "execution_count": 0,
      "outputs": [
        {
          "output_type": "execute_result",
          "data": {
            "text/plain": [
              "array([-1.47194752e-02, -1.00165882e+00, -1.44579915e-01,  6.99512942e-01,\n",
              "       -2.22496178e-01, -7.15965848e-01, -1.83538046e-01, -1.15749134e+00,\n",
              "       -5.47147277e-01,  2.05006151e+00, -6.64021672e-01, -1.07957508e+00,\n",
              "        3.48889755e-01,  4.26806019e-01, -4.43258925e-01,  2.45001404e-01,\n",
              "        1.80071184e-01, -1.05621783e-01, -7.15965848e-01,  2.06043272e-01,\n",
              "       -1.09256112e+00, -1.33929596e+00, -1.09256112e+00,  1.20596866e+00,\n",
              "        4.13819975e-01,  6.47568766e-01, -1.96524090e-01, -8.71798376e-01,\n",
              "       -2.74440354e-01,  1.69943833e+00, -3.00412442e-01, -1.20943552e+00,\n",
              "        2.45262887e+00, -8.45826288e-01, -1.13151925e+00, -6.51035629e-01,\n",
              "        1.46568953e+00,  1.60853602e+00,  1.29687096e+00, -8.06868156e-01,\n",
              "       -6.77007716e-01, -1.26137969e+00, -1.18346343e+00, -7.80896068e-01,\n",
              "        1.38777327e+00, -1.28735178e+00,  4.91736239e-01, -1.31593871e-01,\n",
              "       -1.00165882e+00, -1.31593871e-01,  3.72247006e-02,  9.46247777e-01,\n",
              "       -1.20943552e+00, -6.25063541e-01,  3.87847887e-01, -3.13398486e-01,\n",
              "       -1.30033783e+00, -1.49512849e+00,  2.32015360e-01,  2.32015360e-01,\n",
              "       -1.18346343e+00, -1.05621783e-01, -1.30033783e+00, -3.13398486e-01,\n",
              "       -1.05360299e+00,  1.41113052e-01, -2.77055191e-02, -7.15965848e-01,\n",
              "        1.02154920e-01,  3.35903711e-01, -1.35228200e+00,  1.53061975e+00,\n",
              "        6.47568766e-01, -5.34161233e-01, -8.71798376e-01, -1.43019827e+00,\n",
              "        2.32015360e-01,  6.21596678e-01,  1.29687096e+00, -5.08189145e-01,\n",
              "       -1.18607827e-01, -1.31332387e+00, -1.30033783e+00,  7.51457118e-01,\n",
              "       -1.13151925e+00, -1.44579915e-01, -1.26137969e+00, -2.35482222e-01,\n",
              "       -1.43019827e+00, -5.34161233e-01, -7.02979804e-01,  1.54099096e-01,\n",
              "       -1.35228200e+00, -7.28951892e-01, -8.06868156e-01,  1.28127008e-01,\n",
              "       -2.77055191e-02,  1.64749415e+00, -7.80896068e-01, -8.97770464e-01,\n",
              "       -3.13398486e-01, -6.51035629e-01,  1.94617316e+00,  5.95624590e-01,\n",
              "       -7.41937936e-01, -1.28735178e+00, -2.35482222e-01, -1.05621783e-01,\n",
              "        1.03715008e+00, -9.23742551e-01, -6.25063541e-01, -1.20943552e+00,\n",
              "        1.21895470e+00,  1.88124294e+00,  1.37478723e+00,  9.98191953e-01,\n",
              "        1.59554997e+00,  1.67346624e+00,  3.48889755e-01,  6.21596678e-01,\n",
              "        6.21596678e-01,  2.70973492e-01,  3.61875799e-01, -8.84784420e-01,\n",
              "       -4.04300794e-01,  1.15140964e-01, -6.89993760e-01, -5.60133321e-01,\n",
              "       -4.82217057e-01,  1.50464767e+00,  1.58256393e+00,  7.61828325e-02,\n",
              "       -5.86105409e-01, -8.97770464e-01, -6.38049585e-01,  1.55659184e+00,\n",
              "       -8.71798376e-01,  1.66048019e+00,  2.38769865e+00,  1.67346624e+00,\n",
              "       -4.43258925e-01,  2.14096382e+00,  1.07610822e+00, -1.19644947e+00,\n",
              "        2.83959536e-01,  1.38777327e+00,  3.35903711e-01, -3.13398486e-01,\n",
              "       -7.28951892e-01, -3.39370574e-01,  1.76436855e+00, -8.32840244e-01,\n",
              "        1.81631272e+00, -1.05360299e+00,  5.82638546e-01,  4.39792063e-01,\n",
              "       -1.65096101e+00, -8.84784420e-01, -7.28951892e-01,  5.56666458e-01,\n",
              "       -1.28735178e+00,  8.42359425e-01,  2.57987448e-01, -2.74440354e-01,\n",
              "        8.03401293e-01, -1.20943552e+00, -1.06658903e+00,  8.81317557e-01,\n",
              "        1.50464767e+00, -1.73343121e-03, -1.36526805e+00, -1.01464486e+00,\n",
              "        1.85527085e+00, -6.64021672e-01, -1.47194752e-02, -3.26384530e-01,\n",
              "        1.10208030e+00,  9.46247777e-01, -9.23742551e-01, -1.47194752e-02,\n",
              "       -5.86105409e-01, -1.14450530e+00, -1.83538046e-01,  4.26806019e-01,\n",
              "        1.46568953e+00, -6.64021672e-01, -1.96524090e-01, -1.18607827e-01,\n",
              "       -1.44579915e-01, -9.49714639e-01,  1.81631272e+00,  3.35903711e-01,\n",
              "       -7.93882112e-01, -4.69231013e-01, -8.58812332e-01, -3.91314750e-01,\n",
              "       -1.04061695e+00, -3.00412442e-01, -1.31593871e-01, -8.06868156e-01,\n",
              "        7.61828325e-02, -1.46915640e+00,  5.69652502e-01,  9.07289645e-01,\n",
              "        1.62152206e+00, -6.89993760e-01,  5.69652502e-01,  6.47568766e-01,\n",
              "        3.72247006e-02, -9.75686727e-01,  5.04722283e-01, -1.06658903e+00,\n",
              "       -1.02763090e+00, -1.33929596e+00, -1.13151925e+00,  1.43971745e+00,\n",
              "        1.24492679e+00,  1.86825690e+00,  8.03401293e-01,  4.26806019e-01,\n",
              "       -9.62700683e-01, -7.67910024e-01,  1.29687096e+00, -2.77055191e-02,\n",
              "       -9.75686727e-01,  7.25485030e-01, -9.75686727e-01, -5.73119365e-01,\n",
              "        1.02154920e-01, -1.28735178e+00,  8.81317557e-01,  2.42386567e-02,\n",
              "        1.38777327e+00, -8.06868156e-01,  1.21895470e+00, -3.65342662e-01,\n",
              "       -1.10554717e+00, -1.04061695e+00,  1.36180118e+00,  1.42673140e+00,\n",
              "        1.59554997e+00,  3.22917667e-01, -1.05360299e+00, -1.36526805e+00,\n",
              "        4.52778107e-01, -3.52356618e-01, -9.62700683e-01, -1.31332387e+00,\n",
              "        1.37478723e+00,  8.16387337e-01,  1.95915920e+00,  1.17999657e+00,\n",
              "       -7.93882112e-01, -2.77055191e-02,  2.05006151e+00,  1.12526127e-02,\n",
              "        2.51755909e+00, -1.15749134e+00, -8.19854200e-01, -1.32630991e+00,\n",
              "       -1.46915640e+00, -6.38049585e-01,  2.02408942e+00, -4.69231013e-01,\n",
              "       -9.26357388e-02, -1.01464486e+00, -1.39124013e+00, -4.82217057e-01,\n",
              "        1.45270349e+00, -8.45826288e-01,  6.47568766e-01, -3.26384530e-01,\n",
              "        3.87847887e-01,  1.15402448e+00, -1.11853321e+00, -7.54923980e-01,\n",
              "        1.69943833e+00, -1.14450530e+00, -6.51035629e-01,  6.21596678e-01,\n",
              "        1.46568953e+00, -7.54923980e-01,  1.01117800e+00,  3.74861843e-01,\n",
              "        5.02107446e-02,  1.05013613e+00, -1.19644947e+00,  8.68331513e-01,\n",
              "       -9.36728595e-01, -1.09256112e+00,  2.33575448e+00,  1.24492679e+00,\n",
              "       -8.84784420e-01,  6.21596678e-01, -1.26137969e+00, -8.71798376e-01,\n",
              "       -8.19854200e-01, -1.57304475e+00, -3.00412442e-01, -8.97770464e-01,\n",
              "        1.59554997e+00, -1.13151925e+00,  5.95624590e-01,  1.08909426e+00,\n",
              "        1.30985701e+00, -3.65342662e-01, -1.40422618e+00,  2.57987448e-01,\n",
              "       -4.95203101e-01, -1.31593871e-01, -5.60133321e-01,  3.61875799e-01,\n",
              "       -1.05621783e-01,  1.41113052e-01, -6.66636509e-02, -7.15965848e-01,\n",
              "        8.81317557e-01,  4.91736239e-01, -5.60133321e-01,  5.04722283e-01,\n",
              "       -3.91314750e-01,  1.01117800e+00,  1.16701052e+00,  1.24492679e+00,\n",
              "        1.25791283e+00,  5.17708327e-01, -2.74440354e-01,  1.10208030e+00,\n",
              "       -9.62700683e-01, -2.22496178e-01,  1.19298261e+00,  6.08610634e-01,\n",
              "        1.53061975e+00,  1.54099096e-01, -1.04061695e+00, -7.28951892e-01,\n",
              "        1.99811734e+00, -7.93882112e-01,  8.03401293e-01, -7.41937936e-01,\n",
              "        8.29373381e-01,  1.43971745e+00,  3.35903711e-01, -5.08189145e-01,\n",
              "        6.21596678e-01, -1.70552003e-01, -1.70552003e-01, -8.32840244e-01,\n",
              "       -5.36776070e-02, -8.32840244e-01,  1.17999657e+00, -1.05360299e+00,\n",
              "       -9.75686727e-01, -5.60133321e-01,  1.55659184e+00, -1.19644947e+00,\n",
              "       -1.27436574e+00,  8.94303601e-01, -8.06868156e-01,  2.06304756e+00,\n",
              "        1.67346624e+00,  3.87847887e-01,  2.19290800e+00, -1.22242156e+00,\n",
              "        1.42673140e+00,  6.99512942e-01,  1.05013613e+00,  1.16701052e+00,\n",
              "       -3.78328706e-01,  1.93057228e-01, -1.15749134e+00,  5.82638546e-01,\n",
              "       -1.05360299e+00,  2.06043272e-01, -1.57565959e-01,  8.42359425e-01,\n",
              "       -4.04300794e-01,  1.07610822e+00,  1.20596866e+00, -1.45617035e+00,\n",
              "       -1.30033783e+00, -6.25063541e-01, -2.61454310e-01, -8.32840244e-01,\n",
              "       -1.07957508e+00,  8.68331513e-01, -1.04061695e+00,  6.34582722e-01,\n",
              "       -5.47147277e-01, -1.31332387e+00,  1.62152206e+00, -1.15749134e+00,\n",
              "       -4.43258925e-01, -1.07957508e+00,  1.56957789e+00,  1.37478723e+00,\n",
              "       -1.41721222e+00,  5.95624590e-01,  1.16701052e+00,  1.03715008e+00,\n",
              "        2.96945580e-01, -7.67910024e-01,  2.06043272e-01,  1.59554997e+00,\n",
              "        1.82929877e+00,  1.67346624e+00, -1.04061695e+00, -1.57565959e-01,\n",
              "        4.78750195e-01,  3.74861843e-01,  7.38471074e-01, -2.09510134e-01,\n",
              "        1.41374536e+00, -5.08189145e-01, -2.74440354e-01,  2.83959536e-01,\n",
              "        1.36180118e+00, -1.26137969e+00, -8.84784420e-01, -1.43019827e+00,\n",
              "       -7.96496949e-02,  7.77429206e-01,  1.05013613e+00, -7.93882112e-01,\n",
              "       -5.34161233e-01, -1.73343121e-03, -4.17286837e-01, -1.10554717e+00,\n",
              "        2.05006151e+00, -7.54923980e-01,  4.00833931e-01, -1.11853321e+00,\n",
              "        2.70973492e-01, -1.04061695e+00, -1.33929596e+00, -1.14450530e+00,\n",
              "       -1.35228200e+00,  3.35903711e-01, -6.25063541e-01, -2.61454310e-01,\n",
              "        8.81317557e-01, -1.23540761e+00])"
            ]
          },
          "metadata": {
            "tags": []
          },
          "execution_count": 38
        }
      ]
    },
    {
      "cell_type": "code",
      "metadata": {
        "id": "RQhHH95t7H4G",
        "colab_type": "code",
        "outputId": "4472c037-948d-4c60-82c9-af37ad8a2c98",
        "colab": {
          "base_uri": "https://localhost:8080/",
          "height": 85
        }
      },
      "source": [
        "# Split the data into train and test sets\n",
        "from sklearn.model_selection import train_test_split\n",
        "\n",
        "train_data, test_data, train_targets, test_targets = train_test_split(data, targets, test_size=0.1)\n",
        "\n",
        "print(train_data.shape)\n",
        "print(test_data.shape)\n",
        "print(train_targets.shape)\n",
        "print(train_targets.shape)"
      ],
      "execution_count": 0,
      "outputs": [
        {
          "output_type": "stream",
          "text": [
            "(397, 10)\n",
            "(45, 10)\n",
            "(397,)\n",
            "(397,)\n"
          ],
          "name": "stdout"
        }
      ]
    },
    {
      "cell_type": "markdown",
      "metadata": {
        "id": "wEkhYS-f7H4P",
        "colab_type": "text"
      },
      "source": [
        "#### Train a feedforward neural network model"
      ]
    },
    {
      "cell_type": "code",
      "metadata": {
        "id": "BDnS6d6f7H4R",
        "colab_type": "code",
        "colab": {}
      },
      "source": [
        "# Build the model\n",
        "from tensorflow.keras.models import Sequential\n",
        "from tensorflow.keras.layers import Dense\n",
        "\n",
        "def get_model():\n",
        "  model = Sequential([\n",
        "      Dense(128, activation='relu', input_shape=(train_data.shape[1],)),\n",
        "      Dense(128, activation='relu'),\n",
        "      Dense(128, activation='relu'),\n",
        "      Dense(128, activation='relu'),\n",
        "      Dense(128, activation='relu'),\n",
        "      Dense(128, activation='relu'),\n",
        "      Dense(1),\n",
        "  ])\n",
        "  return model\n",
        "\n",
        "model = get_model()"
      ],
      "execution_count": 0,
      "outputs": []
    },
    {
      "cell_type": "code",
      "metadata": {
        "id": "BtfOXlv07H4a",
        "colab_type": "code",
        "outputId": "ed9b8ad4-021b-4faa-81cc-3725a9f8a107",
        "colab": {
          "base_uri": "https://localhost:8080/",
          "height": 391
        }
      },
      "source": [
        "# Print the model summary\n",
        "model.summary()"
      ],
      "execution_count": 0,
      "outputs": [
        {
          "output_type": "stream",
          "text": [
            "Model: \"sequential_3\"\n",
            "_________________________________________________________________\n",
            "Layer (type)                 Output Shape              Param #   \n",
            "=================================================================\n",
            "dense_21 (Dense)             (None, 128)               1408      \n",
            "_________________________________________________________________\n",
            "dense_22 (Dense)             (None, 128)               16512     \n",
            "_________________________________________________________________\n",
            "dense_23 (Dense)             (None, 128)               16512     \n",
            "_________________________________________________________________\n",
            "dense_24 (Dense)             (None, 128)               16512     \n",
            "_________________________________________________________________\n",
            "dense_25 (Dense)             (None, 128)               16512     \n",
            "_________________________________________________________________\n",
            "dense_26 (Dense)             (None, 128)               16512     \n",
            "_________________________________________________________________\n",
            "dense_27 (Dense)             (None, 1)                 129       \n",
            "=================================================================\n",
            "Total params: 84,097\n",
            "Trainable params: 84,097\n",
            "Non-trainable params: 0\n",
            "_________________________________________________________________\n"
          ],
          "name": "stdout"
        }
      ]
    },
    {
      "cell_type": "code",
      "metadata": {
        "id": "wGSXLXco7H4d",
        "colab_type": "code",
        "colab": {}
      },
      "source": [
        "# Compile the model\n",
        "model.compile(optimizer='adam', loss='mae', metrics=['mse'])"
      ],
      "execution_count": 0,
      "outputs": []
    },
    {
      "cell_type": "code",
      "metadata": {
        "id": "ger9O7tB7H4g",
        "colab_type": "code",
        "outputId": "72cb3e59-dd8e-40a5-c35f-8ed09b7c607c",
        "colab": {
          "base_uri": "https://localhost:8080/",
          "height": 1000
        }
      },
      "source": [
        "# Train the model, with some of the data reserved for validation\n",
        "history = model.fit(train_data, train_targets, epochs=100,\n",
        "            validation_split=0.15, batch_size=64)"
      ],
      "execution_count": 0,
      "outputs": [
        {
          "output_type": "stream",
          "text": [
            "Epoch 1/100\n",
            "6/6 [==============================] - 0s 21ms/step - loss: 0.8353 - mse: 0.9882 - val_loss: 0.8602 - val_mse: 1.0077\n",
            "Epoch 2/100\n",
            "6/6 [==============================] - 0s 8ms/step - loss: 0.8207 - mse: 0.9208 - val_loss: 0.7621 - val_mse: 0.8007\n",
            "Epoch 3/100\n",
            "6/6 [==============================] - 0s 8ms/step - loss: 0.7116 - mse: 0.7298 - val_loss: 0.5543 - val_mse: 0.5094\n",
            "Epoch 4/100\n",
            "6/6 [==============================] - 0s 8ms/step - loss: 0.6168 - mse: 0.6011 - val_loss: 0.5211 - val_mse: 0.4206\n",
            "Epoch 5/100\n",
            "6/6 [==============================] - 0s 10ms/step - loss: 0.5659 - mse: 0.5232 - val_loss: 0.5545 - val_mse: 0.5426\n",
            "Epoch 6/100\n",
            "6/6 [==============================] - 0s 7ms/step - loss: 0.6039 - mse: 0.5325 - val_loss: 0.5460 - val_mse: 0.4664\n",
            "Epoch 7/100\n",
            "6/6 [==============================] - 0s 8ms/step - loss: 0.5673 - mse: 0.5248 - val_loss: 0.5302 - val_mse: 0.4223\n",
            "Epoch 8/100\n",
            "6/6 [==============================] - 0s 7ms/step - loss: 0.5532 - mse: 0.4997 - val_loss: 0.5395 - val_mse: 0.4709\n",
            "Epoch 9/100\n",
            "6/6 [==============================] - 0s 8ms/step - loss: 0.5855 - mse: 0.4831 - val_loss: 0.5482 - val_mse: 0.4265\n",
            "Epoch 10/100\n",
            "6/6 [==============================] - 0s 8ms/step - loss: 0.5315 - mse: 0.4778 - val_loss: 0.5302 - val_mse: 0.4549\n",
            "Epoch 11/100\n",
            "6/6 [==============================] - 0s 8ms/step - loss: 0.5329 - mse: 0.4797 - val_loss: 0.5292 - val_mse: 0.4299\n",
            "Epoch 12/100\n",
            "6/6 [==============================] - 0s 7ms/step - loss: 0.5512 - mse: 0.4656 - val_loss: 0.5427 - val_mse: 0.4685\n",
            "Epoch 13/100\n",
            "6/6 [==============================] - 0s 8ms/step - loss: 0.5357 - mse: 0.4585 - val_loss: 0.5672 - val_mse: 0.5535\n",
            "Epoch 14/100\n",
            "6/6 [==============================] - 0s 7ms/step - loss: 0.5419 - mse: 0.5402 - val_loss: 0.5306 - val_mse: 0.4268\n",
            "Epoch 15/100\n",
            "6/6 [==============================] - 0s 7ms/step - loss: 0.5288 - mse: 0.4690 - val_loss: 0.5355 - val_mse: 0.4812\n",
            "Epoch 16/100\n",
            "6/6 [==============================] - 0s 7ms/step - loss: 0.5124 - mse: 0.4479 - val_loss: 0.5390 - val_mse: 0.4621\n",
            "Epoch 17/100\n",
            "6/6 [==============================] - 0s 8ms/step - loss: 0.4924 - mse: 0.4379 - val_loss: 0.5517 - val_mse: 0.5052\n",
            "Epoch 18/100\n",
            "6/6 [==============================] - 0s 7ms/step - loss: 0.4836 - mse: 0.4261 - val_loss: 0.5402 - val_mse: 0.4592\n",
            "Epoch 19/100\n",
            "6/6 [==============================] - 0s 7ms/step - loss: 0.4677 - mse: 0.4189 - val_loss: 0.5497 - val_mse: 0.5165\n",
            "Epoch 20/100\n",
            "6/6 [==============================] - 0s 7ms/step - loss: 0.5020 - mse: 0.4338 - val_loss: 0.5459 - val_mse: 0.4675\n",
            "Epoch 21/100\n",
            "6/6 [==============================] - 0s 7ms/step - loss: 0.4966 - mse: 0.4124 - val_loss: 0.5689 - val_mse: 0.5554\n",
            "Epoch 22/100\n",
            "6/6 [==============================] - 0s 7ms/step - loss: 0.4766 - mse: 0.4037 - val_loss: 0.5620 - val_mse: 0.5380\n",
            "Epoch 23/100\n",
            "6/6 [==============================] - 0s 7ms/step - loss: 0.4671 - mse: 0.3950 - val_loss: 0.5418 - val_mse: 0.4858\n",
            "Epoch 24/100\n",
            "6/6 [==============================] - 0s 8ms/step - loss: 0.4507 - mse: 0.4013 - val_loss: 0.5723 - val_mse: 0.5297\n",
            "Epoch 25/100\n",
            "6/6 [==============================] - 0s 7ms/step - loss: 0.4525 - mse: 0.3986 - val_loss: 0.5874 - val_mse: 0.6054\n",
            "Epoch 26/100\n",
            "6/6 [==============================] - 0s 7ms/step - loss: 0.4601 - mse: 0.3918 - val_loss: 0.5825 - val_mse: 0.5597\n",
            "Epoch 27/100\n",
            "6/6 [==============================] - 0s 8ms/step - loss: 0.4613 - mse: 0.4089 - val_loss: 0.5596 - val_mse: 0.5216\n",
            "Epoch 28/100\n",
            "6/6 [==============================] - 0s 7ms/step - loss: 0.4601 - mse: 0.3921 - val_loss: 0.5707 - val_mse: 0.5170\n",
            "Epoch 29/100\n",
            "6/6 [==============================] - 0s 7ms/step - loss: 0.4683 - mse: 0.4018 - val_loss: 0.5552 - val_mse: 0.5108\n",
            "Epoch 30/100\n",
            "6/6 [==============================] - 0s 7ms/step - loss: 0.4272 - mse: 0.3654 - val_loss: 0.5727 - val_mse: 0.5556\n",
            "Epoch 31/100\n",
            "6/6 [==============================] - 0s 7ms/step - loss: 0.4517 - mse: 0.3865 - val_loss: 0.5583 - val_mse: 0.5067\n",
            "Epoch 32/100\n",
            "6/6 [==============================] - 0s 7ms/step - loss: 0.4654 - mse: 0.3921 - val_loss: 0.5416 - val_mse: 0.4842\n",
            "Epoch 33/100\n",
            "6/6 [==============================] - 0s 9ms/step - loss: 0.4346 - mse: 0.3657 - val_loss: 0.5694 - val_mse: 0.5671\n",
            "Epoch 34/100\n",
            "6/6 [==============================] - 0s 7ms/step - loss: 0.4458 - mse: 0.3675 - val_loss: 0.5603 - val_mse: 0.5187\n",
            "Epoch 35/100\n",
            "6/6 [==============================] - 0s 7ms/step - loss: 0.4397 - mse: 0.3540 - val_loss: 0.5775 - val_mse: 0.5727\n",
            "Epoch 36/100\n",
            "6/6 [==============================] - 0s 8ms/step - loss: 0.4158 - mse: 0.3369 - val_loss: 0.5878 - val_mse: 0.6015\n",
            "Epoch 37/100\n",
            "6/6 [==============================] - 0s 7ms/step - loss: 0.4430 - mse: 0.3567 - val_loss: 0.5710 - val_mse: 0.5519\n",
            "Epoch 38/100\n",
            "6/6 [==============================] - 0s 7ms/step - loss: 0.3961 - mse: 0.3323 - val_loss: 0.5929 - val_mse: 0.6134\n",
            "Epoch 39/100\n",
            "6/6 [==============================] - 0s 7ms/step - loss: 0.3849 - mse: 0.3336 - val_loss: 0.5585 - val_mse: 0.5274\n",
            "Epoch 40/100\n",
            "6/6 [==============================] - 0s 7ms/step - loss: 0.4193 - mse: 0.3170 - val_loss: 0.5722 - val_mse: 0.5422\n",
            "Epoch 41/100\n",
            "6/6 [==============================] - 0s 7ms/step - loss: 0.3680 - mse: 0.3121 - val_loss: 0.5458 - val_mse: 0.5040\n",
            "Epoch 42/100\n",
            "6/6 [==============================] - 0s 8ms/step - loss: 0.3866 - mse: 0.3232 - val_loss: 0.5523 - val_mse: 0.5367\n",
            "Epoch 43/100\n",
            "6/6 [==============================] - 0s 8ms/step - loss: 0.3682 - mse: 0.3007 - val_loss: 0.6033 - val_mse: 0.6272\n",
            "Epoch 44/100\n",
            "6/6 [==============================] - 0s 10ms/step - loss: 0.3768 - mse: 0.3038 - val_loss: 0.5815 - val_mse: 0.5609\n",
            "Epoch 45/100\n",
            "6/6 [==============================] - 0s 8ms/step - loss: 0.3590 - mse: 0.2926 - val_loss: 0.6250 - val_mse: 0.6592\n",
            "Epoch 46/100\n",
            "6/6 [==============================] - 0s 9ms/step - loss: 0.3702 - mse: 0.2834 - val_loss: 0.6253 - val_mse: 0.6791\n",
            "Epoch 47/100\n",
            "6/6 [==============================] - 0s 8ms/step - loss: 0.3825 - mse: 0.3169 - val_loss: 0.6720 - val_mse: 0.7639\n",
            "Epoch 48/100\n",
            "6/6 [==============================] - 0s 9ms/step - loss: 0.4280 - mse: 0.3524 - val_loss: 0.6022 - val_mse: 0.6468\n",
            "Epoch 49/100\n",
            "6/6 [==============================] - 0s 8ms/step - loss: 0.3769 - mse: 0.2961 - val_loss: 0.5428 - val_mse: 0.4960\n",
            "Epoch 50/100\n",
            "6/6 [==============================] - 0s 8ms/step - loss: 0.3800 - mse: 0.2985 - val_loss: 0.5606 - val_mse: 0.5603\n",
            "Epoch 51/100\n",
            "6/6 [==============================] - 0s 8ms/step - loss: 0.4152 - mse: 0.3209 - val_loss: 0.6157 - val_mse: 0.6483\n",
            "Epoch 52/100\n",
            "6/6 [==============================] - 0s 8ms/step - loss: 0.3655 - mse: 0.2784 - val_loss: 0.6455 - val_mse: 0.7270\n",
            "Epoch 53/100\n",
            "6/6 [==============================] - 0s 8ms/step - loss: 0.3927 - mse: 0.3017 - val_loss: 0.5486 - val_mse: 0.5207\n",
            "Epoch 54/100\n",
            "6/6 [==============================] - 0s 7ms/step - loss: 0.3598 - mse: 0.2757 - val_loss: 0.5861 - val_mse: 0.6135\n",
            "Epoch 55/100\n",
            "6/6 [==============================] - 0s 7ms/step - loss: 0.3481 - mse: 0.2605 - val_loss: 0.6005 - val_mse: 0.6228\n",
            "Epoch 56/100\n",
            "6/6 [==============================] - 0s 8ms/step - loss: 0.3396 - mse: 0.2513 - val_loss: 0.5800 - val_mse: 0.6042\n",
            "Epoch 57/100\n",
            "6/6 [==============================] - 0s 7ms/step - loss: 0.3246 - mse: 0.2279 - val_loss: 0.6295 - val_mse: 0.6783\n",
            "Epoch 58/100\n",
            "6/6 [==============================] - 0s 7ms/step - loss: 0.3444 - mse: 0.2469 - val_loss: 0.6218 - val_mse: 0.6877\n",
            "Epoch 59/100\n",
            "6/6 [==============================] - 0s 9ms/step - loss: 0.3217 - mse: 0.2365 - val_loss: 0.5686 - val_mse: 0.6088\n",
            "Epoch 60/100\n",
            "6/6 [==============================] - 0s 7ms/step - loss: 0.3156 - mse: 0.2308 - val_loss: 0.5886 - val_mse: 0.6268\n",
            "Epoch 61/100\n",
            "6/6 [==============================] - 0s 7ms/step - loss: 0.2996 - mse: 0.2267 - val_loss: 0.6036 - val_mse: 0.6544\n",
            "Epoch 62/100\n",
            "6/6 [==============================] - 0s 9ms/step - loss: 0.3149 - mse: 0.2146 - val_loss: 0.5505 - val_mse: 0.5491\n",
            "Epoch 63/100\n",
            "6/6 [==============================] - 0s 7ms/step - loss: 0.3147 - mse: 0.2214 - val_loss: 0.6111 - val_mse: 0.6526\n",
            "Epoch 64/100\n",
            "6/6 [==============================] - 0s 7ms/step - loss: 0.2937 - mse: 0.2092 - val_loss: 0.6692 - val_mse: 0.7406\n",
            "Epoch 65/100\n",
            "6/6 [==============================] - 0s 8ms/step - loss: 0.2852 - mse: 0.1848 - val_loss: 0.6214 - val_mse: 0.7051\n",
            "Epoch 66/100\n",
            "6/6 [==============================] - 0s 8ms/step - loss: 0.2665 - mse: 0.1875 - val_loss: 0.6573 - val_mse: 0.7207\n",
            "Epoch 67/100\n",
            "6/6 [==============================] - 0s 7ms/step - loss: 0.3025 - mse: 0.1991 - val_loss: 0.5969 - val_mse: 0.6603\n",
            "Epoch 68/100\n",
            "6/6 [==============================] - 0s 7ms/step - loss: 0.3007 - mse: 0.2079 - val_loss: 0.6017 - val_mse: 0.6658\n",
            "Epoch 69/100\n",
            "6/6 [==============================] - 0s 7ms/step - loss: 0.3397 - mse: 0.2388 - val_loss: 0.5865 - val_mse: 0.6076\n",
            "Epoch 70/100\n",
            "6/6 [==============================] - 0s 8ms/step - loss: 0.3188 - mse: 0.2064 - val_loss: 0.5958 - val_mse: 0.6309\n",
            "Epoch 71/100\n",
            "6/6 [==============================] - 0s 7ms/step - loss: 0.2689 - mse: 0.1750 - val_loss: 0.6537 - val_mse: 0.7436\n",
            "Epoch 72/100\n",
            "6/6 [==============================] - 0s 7ms/step - loss: 0.2669 - mse: 0.1730 - val_loss: 0.6070 - val_mse: 0.6494\n",
            "Epoch 73/100\n",
            "6/6 [==============================] - 0s 7ms/step - loss: 0.2603 - mse: 0.1577 - val_loss: 0.6864 - val_mse: 0.8080\n",
            "Epoch 74/100\n",
            "6/6 [==============================] - 0s 7ms/step - loss: 0.2854 - mse: 0.1779 - val_loss: 0.6340 - val_mse: 0.6718\n",
            "Epoch 75/100\n",
            "6/6 [==============================] - 0s 9ms/step - loss: 0.2783 - mse: 0.1691 - val_loss: 0.5839 - val_mse: 0.6181\n",
            "Epoch 76/100\n",
            "6/6 [==============================] - 0s 8ms/step - loss: 0.2643 - mse: 0.1603 - val_loss: 0.6870 - val_mse: 0.7801\n",
            "Epoch 77/100\n",
            "6/6 [==============================] - 0s 7ms/step - loss: 0.2636 - mse: 0.1707 - val_loss: 0.6713 - val_mse: 0.7684\n",
            "Epoch 78/100\n",
            "6/6 [==============================] - 0s 8ms/step - loss: 0.2454 - mse: 0.1502 - val_loss: 0.6605 - val_mse: 0.7270\n",
            "Epoch 79/100\n",
            "6/6 [==============================] - 0s 7ms/step - loss: 0.2487 - mse: 0.1433 - val_loss: 0.6380 - val_mse: 0.7224\n",
            "Epoch 80/100\n",
            "6/6 [==============================] - 0s 8ms/step - loss: 0.2201 - mse: 0.1383 - val_loss: 0.6157 - val_mse: 0.6725\n",
            "Epoch 81/100\n",
            "6/6 [==============================] - 0s 9ms/step - loss: 0.2185 - mse: 0.1339 - val_loss: 0.6114 - val_mse: 0.6812\n",
            "Epoch 82/100\n",
            "6/6 [==============================] - 0s 7ms/step - loss: 0.2778 - mse: 0.1531 - val_loss: 0.6006 - val_mse: 0.6381\n",
            "Epoch 83/100\n",
            "6/6 [==============================] - 0s 8ms/step - loss: 0.2479 - mse: 0.1531 - val_loss: 0.6414 - val_mse: 0.7004\n",
            "Epoch 84/100\n",
            "6/6 [==============================] - 0s 8ms/step - loss: 0.2674 - mse: 0.1430 - val_loss: 0.6194 - val_mse: 0.7125\n",
            "Epoch 85/100\n",
            "6/6 [==============================] - 0s 8ms/step - loss: 0.2981 - mse: 0.1713 - val_loss: 0.6329 - val_mse: 0.7236\n",
            "Epoch 86/100\n",
            "6/6 [==============================] - 0s 7ms/step - loss: 0.2734 - mse: 0.1674 - val_loss: 0.6209 - val_mse: 0.6854\n",
            "Epoch 87/100\n",
            "6/6 [==============================] - 0s 8ms/step - loss: 0.2678 - mse: 0.1490 - val_loss: 0.6028 - val_mse: 0.6809\n",
            "Epoch 88/100\n",
            "6/6 [==============================] - 0s 7ms/step - loss: 0.2873 - mse: 0.1733 - val_loss: 0.6074 - val_mse: 0.7112\n",
            "Epoch 89/100\n",
            "6/6 [==============================] - 0s 8ms/step - loss: 0.3779 - mse: 0.2320 - val_loss: 0.7053 - val_mse: 0.8636\n",
            "Epoch 90/100\n",
            "6/6 [==============================] - 0s 7ms/step - loss: 0.2982 - mse: 0.1817 - val_loss: 0.7181 - val_mse: 0.8639\n",
            "Epoch 91/100\n",
            "6/6 [==============================] - 0s 8ms/step - loss: 0.3303 - mse: 0.1916 - val_loss: 0.6206 - val_mse: 0.6897\n",
            "Epoch 92/100\n",
            "6/6 [==============================] - 0s 7ms/step - loss: 0.2504 - mse: 0.1373 - val_loss: 0.6057 - val_mse: 0.6929\n",
            "Epoch 93/100\n",
            "6/6 [==============================] - 0s 7ms/step - loss: 0.2565 - mse: 0.1315 - val_loss: 0.5979 - val_mse: 0.6497\n",
            "Epoch 94/100\n",
            "6/6 [==============================] - 0s 9ms/step - loss: 0.2412 - mse: 0.1214 - val_loss: 0.6302 - val_mse: 0.6730\n",
            "Epoch 95/100\n",
            "6/6 [==============================] - 0s 7ms/step - loss: 0.2276 - mse: 0.1151 - val_loss: 0.6810 - val_mse: 0.8024\n",
            "Epoch 96/100\n",
            "6/6 [==============================] - 0s 10ms/step - loss: 0.1946 - mse: 0.1036 - val_loss: 0.6373 - val_mse: 0.7178\n",
            "Epoch 97/100\n",
            "6/6 [==============================] - 0s 8ms/step - loss: 0.2063 - mse: 0.1010 - val_loss: 0.6293 - val_mse: 0.7143\n",
            "Epoch 98/100\n",
            "6/6 [==============================] - 0s 7ms/step - loss: 0.1979 - mse: 0.1063 - val_loss: 0.6668 - val_mse: 0.7892\n",
            "Epoch 99/100\n",
            "6/6 [==============================] - 0s 7ms/step - loss: 0.2134 - mse: 0.1189 - val_loss: 0.6074 - val_mse: 0.6629\n",
            "Epoch 100/100\n",
            "6/6 [==============================] - 0s 9ms/step - loss: 0.2311 - mse: 0.1162 - val_loss: 0.6308 - val_mse: 0.7229\n"
          ],
          "name": "stdout"
        }
      ]
    },
    {
      "cell_type": "code",
      "metadata": {
        "id": "fmo8GO1g7H4j",
        "colab_type": "code",
        "outputId": "ca0e1ae7-50a0-4301-c4d7-e99e197c85de",
        "colab": {
          "base_uri": "https://localhost:8080/",
          "height": 51
        }
      },
      "source": [
        "# Evaluate the model on the test set\n",
        "model.evaluate(test_data, test_targets)"
      ],
      "execution_count": 0,
      "outputs": [
        {
          "output_type": "stream",
          "text": [
            "2/2 [==============================] - 0s 2ms/step - loss: 0.5967 - mse: 0.5907\n"
          ],
          "name": "stdout"
        },
        {
          "output_type": "execute_result",
          "data": {
            "text/plain": [
              "[0.5966964364051819, 0.590720534324646]"
            ]
          },
          "metadata": {
            "tags": []
          },
          "execution_count": 44
        }
      ]
    },
    {
      "cell_type": "markdown",
      "metadata": {
        "id": "szsKLGqh7H4o",
        "colab_type": "text"
      },
      "source": [
        "#### Plot the learning curves"
      ]
    },
    {
      "cell_type": "code",
      "metadata": {
        "id": "Uoz7Bf1J7H4p",
        "colab_type": "code",
        "colab": {}
      },
      "source": [
        "import matplotlib.pyplot as plt\n",
        "%matplotlib inline"
      ],
      "execution_count": 0,
      "outputs": []
    },
    {
      "cell_type": "code",
      "metadata": {
        "id": "RCZnNx_57H4w",
        "colab_type": "code",
        "outputId": "3fc7e812-2be3-4f2b-b9de-0054bd93b0de",
        "colab": {
          "base_uri": "https://localhost:8080/",
          "height": 295
        }
      },
      "source": [
        "# Plot the training and validation loss\n",
        "\n",
        "plt.plot(history.history['loss'])\n",
        "plt.plot(history.history['val_loss'])\n",
        "plt.title('Loss vs. epochs')\n",
        "plt.ylabel('Loss')\n",
        "plt.xlabel('Epoch')\n",
        "plt.legend(['Training', 'Validation'], loc='upper right')\n",
        "plt.show()"
      ],
      "execution_count": 0,
      "outputs": [
        {
          "output_type": "display_data",
          "data": {
            "image/png": "[encoded data removed]",
            "text/plain": [
              "<Figure size 432x288 with 1 Axes>"
            ]
          },
          "metadata": {
            "tags": [],
            "needs_background": "light"
          }
        }
      ]
    },
    {
      "cell_type": "markdown",
      "metadata": {
        "id": "0Rf4NBLc7H4z",
        "colab_type": "text"
      },
      "source": [
        "***\n",
        "<a id=\"coding_tutorial_2\"></a>\n",
        "## Model regularisation"
      ]
    },
    {
      "cell_type": "markdown",
      "metadata": {
        "id": "sW3h7UhI7H40",
        "colab_type": "text"
      },
      "source": [
        "#### Adding regularisation with weight decay and dropout"
      ]
    },
    {
      "cell_type": "code",
      "metadata": {
        "id": "7KYyWvfp7H41",
        "colab_type": "code",
        "colab": {}
      },
      "source": [
        "from tensorflow.keras.layers import Dropout\n",
        "from tensorflow.keras import regularizers"
      ],
      "execution_count": 0,
      "outputs": []
    },
    {
      "cell_type": "code",
      "metadata": {
        "id": "QnwUa3Yy7H45",
        "colab_type": "code",
        "colab": {}
      },
      "source": [
        "def get_regularised_model(wd, rate):\n",
        "    model = Sequential([\n",
        "        Dense(128, kernel_regularizer=regularizers.l2(wd), activation=\"relu\", input_shape=(train_data.shape[1],)),\n",
        "        Dropout(rate),\n",
        "        Dense(128, kernel_regularizer=regularizers.l2(wd), activation=\"relu\"),\n",
        "        Dropout(rate),\n",
        "        Dense(128, kernel_regularizer=regularizers.l2(wd), activation=\"relu\"),\n",
        "        Dropout(rate),\n",
        "        Dense(128, kernel_regularizer=regularizers.l2(wd), activation=\"relu\"),\n",
        "        Dropout(rate),\n",
        "        Dense(128, kernel_regularizer=regularizers.l2(wd), activation=\"relu\"),\n",
        "        Dropout(rate),\n",
        "        Dense(128, kernel_regularizer=regularizers.l2(wd), activation=\"relu\"),\n",
        "        Dropout(rate),\n",
        "        Dense(1)\n",
        "    ])\n",
        "    return model"
      ],
      "execution_count": 0,
      "outputs": []
    },
    {
      "cell_type": "code",
      "metadata": {
        "id": "s5jqhr_b7H48",
        "colab_type": "code",
        "colab": {}
      },
      "source": [
        "# Re-build the model with weight decay and dropout layers\n",
        "model = get_regularised_model(1e-5,0.3)"
      ],
      "execution_count": 0,
      "outputs": []
    },
    {
      "cell_type": "code",
      "metadata": {
        "id": "m7_9oZ_T7H4_",
        "colab_type": "code",
        "colab": {}
      },
      "source": [
        "# Compile the model\n",
        "model.compile(optimizer='adam', loss='mse', metrics=['mae'])"
      ],
      "execution_count": 0,
      "outputs": []
    },
    {
      "cell_type": "code",
      "metadata": {
        "id": "F58nHL5S7H5D",
        "colab_type": "code",
        "outputId": "caf7853b-2567-4ead-980c-03bdd748415a",
        "colab": {
          "base_uri": "https://localhost:8080/",
          "height": 1000
        }
      },
      "source": [
        "# Train the model, with some of the data reserved for validation\n",
        "history = model.fit(train_data, train_targets, epochs=100, validation_split=0.15, batch_size=64)"
      ],
      "execution_count": 0,
      "outputs": [
        {
          "output_type": "stream",
          "text": [
            "Epoch 1/100\n",
            "6/6 [==============================] - 0s 64ms/step - loss: 0.9621 - mae: 0.8518 - val_loss: 1.0406 - val_mae: 0.8778\n",
            "Epoch 2/100\n",
            "6/6 [==============================] - 0s 8ms/step - loss: 0.9482 - mae: 0.8456 - val_loss: 0.9754 - val_mae: 0.8524\n",
            "Epoch 3/100\n",
            "6/6 [==============================] - 0s 8ms/step - loss: 0.9091 - mae: 0.8238 - val_loss: 0.8311 - val_mae: 0.7824\n",
            "Epoch 4/100\n",
            "6/6 [==============================] - 0s 8ms/step - loss: 0.7857 - mae: 0.7616 - val_loss: 0.6003 - val_mae: 0.6585\n",
            "Epoch 5/100\n",
            "6/6 [==============================] - 0s 8ms/step - loss: 0.6284 - mae: 0.6696 - val_loss: 0.5170 - val_mae: 0.5605\n",
            "Epoch 6/100\n",
            "6/6 [==============================] - 0s 8ms/step - loss: 0.5842 - mae: 0.6331 - val_loss: 0.4613 - val_mae: 0.5500\n",
            "Epoch 7/100\n",
            "6/6 [==============================] - 0s 9ms/step - loss: 0.5980 - mae: 0.6083 - val_loss: 0.5364 - val_mae: 0.5871\n",
            "Epoch 8/100\n",
            "6/6 [==============================] - 0s 10ms/step - loss: 0.6074 - mae: 0.6298 - val_loss: 0.5245 - val_mae: 0.6067\n",
            "Epoch 9/100\n",
            "6/6 [==============================] - 0s 10ms/step - loss: 0.5789 - mae: 0.6390 - val_loss: 0.4655 - val_mae: 0.5946\n",
            "Epoch 10/100\n",
            "6/6 [==============================] - 0s 8ms/step - loss: 0.5875 - mae: 0.6088 - val_loss: 0.4907 - val_mae: 0.5719\n",
            "Epoch 11/100\n",
            "6/6 [==============================] - 0s 8ms/step - loss: 0.5470 - mae: 0.6072 - val_loss: 0.4495 - val_mae: 0.5557\n",
            "Epoch 12/100\n",
            "6/6 [==============================] - 0s 8ms/step - loss: 0.6188 - mae: 0.6234 - val_loss: 0.4476 - val_mae: 0.5516\n",
            "Epoch 13/100\n",
            "6/6 [==============================] - 0s 8ms/step - loss: 0.5693 - mae: 0.6227 - val_loss: 0.4877 - val_mae: 0.5588\n",
            "Epoch 14/100\n",
            "6/6 [==============================] - 0s 9ms/step - loss: 0.6176 - mae: 0.6215 - val_loss: 0.4609 - val_mae: 0.5607\n",
            "Epoch 15/100\n",
            "6/6 [==============================] - 0s 8ms/step - loss: 0.5409 - mae: 0.5968 - val_loss: 0.5011 - val_mae: 0.5673\n",
            "Epoch 16/100\n",
            "6/6 [==============================] - 0s 8ms/step - loss: 0.5352 - mae: 0.6024 - val_loss: 0.4552 - val_mae: 0.5531\n",
            "Epoch 17/100\n",
            "6/6 [==============================] - 0s 8ms/step - loss: 0.5219 - mae: 0.5830 - val_loss: 0.4329 - val_mae: 0.5456\n",
            "Epoch 18/100\n",
            "6/6 [==============================] - 0s 8ms/step - loss: 0.5369 - mae: 0.5918 - val_loss: 0.4893 - val_mae: 0.5596\n",
            "Epoch 19/100\n",
            "6/6 [==============================] - 0s 10ms/step - loss: 0.5151 - mae: 0.5890 - val_loss: 0.5029 - val_mae: 0.5666\n",
            "Epoch 20/100\n",
            "6/6 [==============================] - 0s 8ms/step - loss: 0.5427 - mae: 0.5933 - val_loss: 0.4400 - val_mae: 0.5437\n",
            "Epoch 21/100\n",
            "6/6 [==============================] - 0s 8ms/step - loss: 0.5643 - mae: 0.5815 - val_loss: 0.4543 - val_mae: 0.5336\n",
            "Epoch 22/100\n",
            "6/6 [==============================] - 0s 9ms/step - loss: 0.4817 - mae: 0.5536 - val_loss: 0.4728 - val_mae: 0.5544\n",
            "Epoch 23/100\n",
            "6/6 [==============================] - 0s 8ms/step - loss: 0.5234 - mae: 0.5898 - val_loss: 0.4484 - val_mae: 0.5483\n",
            "Epoch 24/100\n",
            "6/6 [==============================] - 0s 10ms/step - loss: 0.5236 - mae: 0.5740 - val_loss: 0.4544 - val_mae: 0.5461\n",
            "Epoch 25/100\n",
            "6/6 [==============================] - 0s 8ms/step - loss: 0.4738 - mae: 0.5557 - val_loss: 0.4437 - val_mae: 0.5367\n",
            "Epoch 26/100\n",
            "6/6 [==============================] - 0s 8ms/step - loss: 0.4925 - mae: 0.5720 - val_loss: 0.4799 - val_mae: 0.5502\n",
            "Epoch 27/100\n",
            "6/6 [==============================] - 0s 8ms/step - loss: 0.5232 - mae: 0.5710 - val_loss: 0.4674 - val_mae: 0.5580\n",
            "Epoch 28/100\n",
            "6/6 [==============================] - 0s 10ms/step - loss: 0.5150 - mae: 0.5823 - val_loss: 0.5063 - val_mae: 0.5631\n",
            "Epoch 29/100\n",
            "6/6 [==============================] - 0s 8ms/step - loss: 0.5677 - mae: 0.5713 - val_loss: 0.4481 - val_mae: 0.5395\n",
            "Epoch 30/100\n",
            "6/6 [==============================] - 0s 8ms/step - loss: 0.5658 - mae: 0.6002 - val_loss: 0.4671 - val_mae: 0.5714\n",
            "Epoch 31/100\n",
            "6/6 [==============================] - 0s 8ms/step - loss: 0.5136 - mae: 0.5923 - val_loss: 0.5161 - val_mae: 0.5915\n",
            "Epoch 32/100\n",
            "6/6 [==============================] - 0s 9ms/step - loss: 0.5673 - mae: 0.5850 - val_loss: 0.4472 - val_mae: 0.5303\n",
            "Epoch 33/100\n",
            "6/6 [==============================] - 0s 8ms/step - loss: 0.4881 - mae: 0.5662 - val_loss: 0.4083 - val_mae: 0.5069\n",
            "Epoch 34/100\n",
            "6/6 [==============================] - 0s 8ms/step - loss: 0.5190 - mae: 0.5851 - val_loss: 0.4873 - val_mae: 0.5528\n",
            "Epoch 35/100\n",
            "6/6 [==============================] - 0s 8ms/step - loss: 0.5065 - mae: 0.5805 - val_loss: 0.4727 - val_mae: 0.5635\n",
            "Epoch 36/100\n",
            "6/6 [==============================] - 0s 8ms/step - loss: 0.5116 - mae: 0.5844 - val_loss: 0.4290 - val_mae: 0.5279\n",
            "Epoch 37/100\n",
            "6/6 [==============================] - 0s 8ms/step - loss: 0.4974 - mae: 0.5598 - val_loss: 0.4793 - val_mae: 0.5309\n",
            "Epoch 38/100\n",
            "6/6 [==============================] - 0s 9ms/step - loss: 0.5504 - mae: 0.5810 - val_loss: 0.4500 - val_mae: 0.5423\n",
            "Epoch 39/100\n",
            "6/6 [==============================] - 0s 8ms/step - loss: 0.4914 - mae: 0.5749 - val_loss: 0.4742 - val_mae: 0.5485\n",
            "Epoch 40/100\n",
            "6/6 [==============================] - 0s 8ms/step - loss: 0.4917 - mae: 0.5660 - val_loss: 0.4439 - val_mae: 0.5305\n",
            "Epoch 41/100\n",
            "6/6 [==============================] - 0s 11ms/step - loss: 0.4917 - mae: 0.5398 - val_loss: 0.4497 - val_mae: 0.5326\n",
            "Epoch 42/100\n",
            "6/6 [==============================] - 0s 8ms/step - loss: 0.4498 - mae: 0.5485 - val_loss: 0.4442 - val_mae: 0.5346\n",
            "Epoch 43/100\n",
            "6/6 [==============================] - 0s 8ms/step - loss: 0.5143 - mae: 0.5609 - val_loss: 0.4384 - val_mae: 0.5274\n",
            "Epoch 44/100\n",
            "6/6 [==============================] - 0s 8ms/step - loss: 0.4843 - mae: 0.5421 - val_loss: 0.4639 - val_mae: 0.5418\n",
            "Epoch 45/100\n",
            "6/6 [==============================] - 0s 8ms/step - loss: 0.4969 - mae: 0.5609 - val_loss: 0.4587 - val_mae: 0.5381\n",
            "Epoch 46/100\n",
            "6/6 [==============================] - 0s 9ms/step - loss: 0.4934 - mae: 0.5756 - val_loss: 0.4534 - val_mae: 0.5327\n",
            "Epoch 47/100\n",
            "6/6 [==============================] - 0s 9ms/step - loss: 0.4634 - mae: 0.5759 - val_loss: 0.4471 - val_mae: 0.5129\n",
            "Epoch 48/100\n",
            "6/6 [==============================] - 0s 8ms/step - loss: 0.4768 - mae: 0.5477 - val_loss: 0.4041 - val_mae: 0.5073\n",
            "Epoch 49/100\n",
            "6/6 [==============================] - 0s 8ms/step - loss: 0.4738 - mae: 0.5476 - val_loss: 0.4576 - val_mae: 0.5332\n",
            "Epoch 50/100\n",
            "6/6 [==============================] - 0s 8ms/step - loss: 0.4640 - mae: 0.5554 - val_loss: 0.4644 - val_mae: 0.5361\n",
            "Epoch 51/100\n",
            "6/6 [==============================] - 0s 8ms/step - loss: 0.4853 - mae: 0.5515 - val_loss: 0.4457 - val_mae: 0.5158\n",
            "Epoch 52/100\n",
            "6/6 [==============================] - 0s 8ms/step - loss: 0.4482 - mae: 0.5347 - val_loss: 0.4334 - val_mae: 0.5238\n",
            "Epoch 53/100\n",
            "6/6 [==============================] - 0s 8ms/step - loss: 0.4375 - mae: 0.5368 - val_loss: 0.4255 - val_mae: 0.5210\n",
            "Epoch 54/100\n",
            "6/6 [==============================] - 0s 8ms/step - loss: 0.4445 - mae: 0.5388 - val_loss: 0.4627 - val_mae: 0.5226\n",
            "Epoch 55/100\n",
            "6/6 [==============================] - 0s 8ms/step - loss: 0.4431 - mae: 0.5385 - val_loss: 0.4251 - val_mae: 0.5118\n",
            "Epoch 56/100\n",
            "6/6 [==============================] - 0s 8ms/step - loss: 0.4756 - mae: 0.5431 - val_loss: 0.4469 - val_mae: 0.5305\n",
            "Epoch 57/100\n",
            "6/6 [==============================] - 0s 11ms/step - loss: 0.4751 - mae: 0.5499 - val_loss: 0.4777 - val_mae: 0.5449\n",
            "Epoch 58/100\n",
            "6/6 [==============================] - 0s 9ms/step - loss: 0.4674 - mae: 0.5340 - val_loss: 0.4121 - val_mae: 0.4984\n",
            "Epoch 59/100\n",
            "6/6 [==============================] - 0s 8ms/step - loss: 0.4469 - mae: 0.5179 - val_loss: 0.4308 - val_mae: 0.5066\n",
            "Epoch 60/100\n",
            "6/6 [==============================] - 0s 8ms/step - loss: 0.4567 - mae: 0.5071 - val_loss: 0.4140 - val_mae: 0.5178\n",
            "Epoch 61/100\n",
            "6/6 [==============================] - 0s 8ms/step - loss: 0.4727 - mae: 0.5473 - val_loss: 0.4615 - val_mae: 0.5419\n",
            "Epoch 62/100\n",
            "6/6 [==============================] - 0s 8ms/step - loss: 0.4326 - mae: 0.5355 - val_loss: 0.4616 - val_mae: 0.5291\n",
            "Epoch 63/100\n",
            "6/6 [==============================] - 0s 8ms/step - loss: 0.3973 - mae: 0.5299 - val_loss: 0.4503 - val_mae: 0.5230\n",
            "Epoch 64/100\n",
            "6/6 [==============================] - 0s 8ms/step - loss: 0.4555 - mae: 0.5523 - val_loss: 0.4723 - val_mae: 0.5339\n",
            "Epoch 65/100\n",
            "6/6 [==============================] - 0s 8ms/step - loss: 0.4169 - mae: 0.5353 - val_loss: 0.4401 - val_mae: 0.5283\n",
            "Epoch 66/100\n",
            "6/6 [==============================] - 0s 8ms/step - loss: 0.4153 - mae: 0.5292 - val_loss: 0.4488 - val_mae: 0.5234\n",
            "Epoch 67/100\n",
            "6/6 [==============================] - 0s 9ms/step - loss: 0.4332 - mae: 0.5158 - val_loss: 0.3938 - val_mae: 0.5012\n",
            "Epoch 68/100\n",
            "6/6 [==============================] - 0s 8ms/step - loss: 0.5070 - mae: 0.5792 - val_loss: 0.4465 - val_mae: 0.5294\n",
            "Epoch 69/100\n",
            "6/6 [==============================] - 0s 8ms/step - loss: 0.5017 - mae: 0.5256 - val_loss: 0.4781 - val_mae: 0.5307\n",
            "Epoch 70/100\n",
            "6/6 [==============================] - 0s 8ms/step - loss: 0.4523 - mae: 0.5429 - val_loss: 0.4180 - val_mae: 0.5271\n",
            "Epoch 71/100\n",
            "6/6 [==============================] - 0s 8ms/step - loss: 0.4461 - mae: 0.5347 - val_loss: 0.4910 - val_mae: 0.5421\n",
            "Epoch 72/100\n",
            "6/6 [==============================] - 0s 8ms/step - loss: 0.4786 - mae: 0.5434 - val_loss: 0.4958 - val_mae: 0.5542\n",
            "Epoch 73/100\n",
            "6/6 [==============================] - 0s 8ms/step - loss: 0.4214 - mae: 0.5216 - val_loss: 0.4360 - val_mae: 0.5334\n",
            "Epoch 74/100\n",
            "6/6 [==============================] - 0s 8ms/step - loss: 0.4332 - mae: 0.5301 - val_loss: 0.5127 - val_mae: 0.5457\n",
            "Epoch 75/100\n",
            "6/6 [==============================] - 0s 8ms/step - loss: 0.4206 - mae: 0.5138 - val_loss: 0.4521 - val_mae: 0.5216\n",
            "Epoch 76/100\n",
            "6/6 [==============================] - 0s 11ms/step - loss: 0.4042 - mae: 0.5123 - val_loss: 0.4503 - val_mae: 0.5198\n",
            "Epoch 77/100\n",
            "6/6 [==============================] - 0s 8ms/step - loss: 0.4110 - mae: 0.5149 - val_loss: 0.4392 - val_mae: 0.5123\n",
            "Epoch 78/100\n",
            "6/6 [==============================] - 0s 8ms/step - loss: 0.4129 - mae: 0.5104 - val_loss: 0.4718 - val_mae: 0.5311\n",
            "Epoch 79/100\n",
            "6/6 [==============================] - 0s 8ms/step - loss: 0.3959 - mae: 0.5075 - val_loss: 0.4681 - val_mae: 0.5194\n",
            "Epoch 80/100\n",
            "6/6 [==============================] - 0s 8ms/step - loss: 0.4036 - mae: 0.5133 - val_loss: 0.4637 - val_mae: 0.5166\n",
            "Epoch 81/100\n",
            "6/6 [==============================] - 0s 8ms/step - loss: 0.4208 - mae: 0.5127 - val_loss: 0.4513 - val_mae: 0.5203\n",
            "Epoch 82/100\n",
            "6/6 [==============================] - 0s 8ms/step - loss: 0.4255 - mae: 0.4905 - val_loss: 0.4114 - val_mae: 0.4989\n",
            "Epoch 83/100\n",
            "6/6 [==============================] - 0s 8ms/step - loss: 0.4545 - mae: 0.5282 - val_loss: 0.5121 - val_mae: 0.5565\n",
            "Epoch 84/100\n",
            "6/6 [==============================] - 0s 8ms/step - loss: 0.4776 - mae: 0.5406 - val_loss: 0.4842 - val_mae: 0.5380\n",
            "Epoch 85/100\n",
            "6/6 [==============================] - 0s 8ms/step - loss: 0.4818 - mae: 0.5431 - val_loss: 0.5501 - val_mae: 0.5617\n",
            "Epoch 86/100\n",
            "6/6 [==============================] - 0s 9ms/step - loss: 0.4456 - mae: 0.5347 - val_loss: 0.4609 - val_mae: 0.5435\n",
            "Epoch 87/100\n",
            "6/6 [==============================] - 0s 8ms/step - loss: 0.4586 - mae: 0.5266 - val_loss: 0.5142 - val_mae: 0.5557\n",
            "Epoch 88/100\n",
            "6/6 [==============================] - 0s 7ms/step - loss: 0.4132 - mae: 0.5213 - val_loss: 0.4540 - val_mae: 0.5312\n",
            "Epoch 89/100\n",
            "6/6 [==============================] - 0s 8ms/step - loss: 0.3916 - mae: 0.5135 - val_loss: 0.5569 - val_mae: 0.5588\n",
            "Epoch 90/100\n",
            "6/6 [==============================] - 0s 8ms/step - loss: 0.4188 - mae: 0.5203 - val_loss: 0.4264 - val_mae: 0.5168\n",
            "Epoch 91/100\n",
            "6/6 [==============================] - 0s 8ms/step - loss: 0.4128 - mae: 0.5296 - val_loss: 0.4991 - val_mae: 0.5483\n",
            "Epoch 92/100\n",
            "6/6 [==============================] - 0s 8ms/step - loss: 0.4302 - mae: 0.5137 - val_loss: 0.5125 - val_mae: 0.5479\n",
            "Epoch 93/100\n",
            "6/6 [==============================] - 0s 8ms/step - loss: 0.4146 - mae: 0.5194 - val_loss: 0.4205 - val_mae: 0.5185\n",
            "Epoch 94/100\n",
            "6/6 [==============================] - 0s 10ms/step - loss: 0.4246 - mae: 0.5092 - val_loss: 0.5359 - val_mae: 0.5496\n",
            "Epoch 95/100\n",
            "6/6 [==============================] - 0s 8ms/step - loss: 0.3981 - mae: 0.4889 - val_loss: 0.4345 - val_mae: 0.5110\n",
            "Epoch 96/100\n",
            "6/6 [==============================] - 0s 9ms/step - loss: 0.3854 - mae: 0.5069 - val_loss: 0.4678 - val_mae: 0.5289\n",
            "Epoch 97/100\n",
            "6/6 [==============================] - 0s 8ms/step - loss: 0.4091 - mae: 0.4949 - val_loss: 0.5009 - val_mae: 0.5426\n",
            "Epoch 98/100\n",
            "6/6 [==============================] - 0s 9ms/step - loss: 0.3901 - mae: 0.4951 - val_loss: 0.4688 - val_mae: 0.5455\n",
            "Epoch 99/100\n",
            "6/6 [==============================] - 0s 9ms/step - loss: 0.3938 - mae: 0.5038 - val_loss: 0.4593 - val_mae: 0.5274\n",
            "Epoch 100/100\n",
            "6/6 [==============================] - 0s 8ms/step - loss: 0.3328 - mae: 0.4720 - val_loss: 0.4807 - val_mae: 0.5286\n"
          ],
          "name": "stdout"
        }
      ]
    },
    {
      "cell_type": "code",
      "metadata": {
        "id": "dCHRuViY7H5G",
        "colab_type": "code",
        "outputId": "93e844ff-f5c5-429f-83c1-63fdfcd2fe1b",
        "colab": {
          "base_uri": "https://localhost:8080/",
          "height": 51
        }
      },
      "source": [
        "# Evaluate the model on the test set\n",
        "model.evaluate(test_data, test_targets)"
      ],
      "execution_count": 0,
      "outputs": [
        {
          "output_type": "stream",
          "text": [
            "2/2 [==============================] - 0s 3ms/step - loss: 0.4288 - mae: 0.4717\n"
          ],
          "name": "stdout"
        },
        {
          "output_type": "execute_result",
          "data": {
            "text/plain": [
              "[0.4287838339805603, 0.4716525673866272]"
            ]
          },
          "metadata": {
            "tags": []
          },
          "execution_count": 52
        }
      ]
    },
    {
      "cell_type": "markdown",
      "metadata": {
        "id": "gTH6-sc37H5J",
        "colab_type": "text"
      },
      "source": [
        "#### Plot the learning curves"
      ]
    },
    {
      "cell_type": "code",
      "metadata": {
        "id": "HWllZI_a7H5K",
        "colab_type": "code",
        "outputId": "a822a4f0-ffef-4805-a570-f73c8d6ce1e1",
        "colab": {
          "base_uri": "https://localhost:8080/",
          "height": 295
        }
      },
      "source": [
        "# Plot the training and validation loss\n",
        "\n",
        "import matplotlib.pyplot as plt\n",
        "\n",
        "plt.plot(history.history['loss'])\n",
        "plt.plot(history.history['val_loss'])\n",
        "plt.title('Loss vs. epochs')\n",
        "plt.ylabel('Loss')\n",
        "plt.xlabel('Epoch')\n",
        "plt.legend(['Training', 'Validation'], loc='upper right')\n",
        "plt.show()"
      ],
      "execution_count": 0,
      "outputs": [
        {
          "output_type": "display_data",
          "data": {
            "image/png": "[encoded data removed]",
            "text/plain": [
              "<Figure size 432x288 with 1 Axes>"
            ]
          },
          "metadata": {
            "tags": [],
            "needs_background": "light"
          }
        }
      ]
    },
    {
      "cell_type": "markdown",
      "metadata": {
        "id": "ZFavC5ZO7H5M",
        "colab_type": "text"
      },
      "source": [
        "***\n",
        "<a id=\"coding_tutorial_3\"></a>\n",
        "## Introduction to callbacks"
      ]
    },
    {
      "cell_type": "markdown",
      "metadata": {
        "id": "L5sHBQBa7H5N",
        "colab_type": "text"
      },
      "source": [
        "#### Example training callback"
      ]
    },
    {
      "cell_type": "code",
      "metadata": {
        "id": "K6fQXr3L7H5N",
        "colab_type": "code",
        "colab": {}
      },
      "source": [
        "# Write a custom callback\n",
        "from tensorflow.keras.callbacks import Callback\n",
        "\n",
        "class TrainingCallback(Callback):\n",
        "\n",
        "  def on_train_begin(self, logs=None):\n",
        "    print('Starting training...')\n",
        "  \n",
        "  def on_epoch_begin(self, epoch, logs=None):\n",
        "    print(f'Starting epoch {epoch}')\n",
        "  \n",
        "  def on_train_batch_begin(self, batch, logs=None):\n",
        "    print(f'Training: Starting batch {batch}')\n",
        "  \n",
        "  def on_train_batch_end(self, batch, logs=None):\n",
        "    print(f'Training: Finished batch {batch}')\n",
        "  \n",
        "  def on_epoch_end(self, epoch, logs=None):\n",
        "    print(f'Finished epoch {epoch}')\n",
        "  \n",
        "  def on_train_end(sefl, logs=None):\n",
        "    print('Finished training!')"
      ],
      "execution_count": 0,
      "outputs": []
    },
    {
      "cell_type": "code",
      "metadata": {
        "id": "uDpBdb-oqqEI",
        "colab_type": "code",
        "colab": {}
      },
      "source": [
        " class TestingCallback(Callback):\n",
        "\n",
        "  def on_test_begin(self, logs=None):\n",
        "    print('Starting testing...')\n",
        "  \n",
        "  def on_test_batch_begin(self, batch, logs=None):\n",
        "    print(f'Testing: Starting batch {batch}')\n",
        "  \n",
        "  def on_test_batch_end(self, batch, logs=None):\n",
        "    print(f'Testing: Finished batch {batch}')\n",
        "  \n",
        "  def on_test_end(sefl, logs=None):\n",
        "    print('Finished testing!')"
      ],
      "execution_count": 0,
      "outputs": []
    },
    {
      "cell_type": "code",
      "metadata": {
        "id": "5D-Wgwxz7H5Q",
        "colab_type": "code",
        "colab": {}
      },
      "source": [
        "# Re-build the model\n",
        "model = get_regularised_model(1e-5, 0.3)"
      ],
      "execution_count": 0,
      "outputs": []
    },
    {
      "cell_type": "code",
      "metadata": {
        "id": "QIvsTNpV7H5T",
        "colab_type": "code",
        "colab": {}
      },
      "source": [
        "# Compile the model\n",
        "\n",
        "model.compile(optimizer='adam', loss='mse')"
      ],
      "execution_count": 0,
      "outputs": []
    },
    {
      "cell_type": "markdown",
      "metadata": {
        "id": "oPr2xyn17H5V",
        "colab_type": "text"
      },
      "source": [
        "#### Train the model with the callback"
      ]
    },
    {
      "cell_type": "code",
      "metadata": {
        "id": "imJjctbH7H5W",
        "colab_type": "code",
        "outputId": "7c7960aa-02a8-4d1b-9755-fe55f45faf31",
        "colab": {
          "base_uri": "https://localhost:8080/",
          "height": 680
        }
      },
      "source": [
        "# Train the model, with some of the data reserved for validation\n",
        "model.fit(train_data, train_targets, epochs=3, batch_size=128, callbacks=(TrainingCallback()))"
      ],
      "execution_count": 0,
      "outputs": [
        {
          "output_type": "stream",
          "text": [
            "Starting training...\n",
            "Starting epoch 0\n",
            "Epoch 1/3\n",
            "Training: Starting batch 0\n",
            "Training: Finished batch 0\n",
            "1/4 [======>.......................] - ETA: 0s - loss: 1.0676Training: Starting batch 1\n",
            "Training: Finished batch 1\n",
            "Training: Starting batch 2\n",
            "Training: Finished batch 2\n",
            "Training: Starting batch 3\n",
            "Training: Finished batch 3\n",
            "Finished epoch 0\n",
            "4/4 [==============================] - 0s 6ms/step - loss: 0.9997\n",
            "Starting epoch 1\n",
            "Epoch 2/3\n",
            "Training: Starting batch 0\n",
            "Training: Finished batch 0\n",
            "1/4 [======>.......................] - ETA: 0s - loss: 1.0255Training: Starting batch 1\n",
            "Training: Finished batch 1\n",
            "Training: Starting batch 2\n",
            "Training: Finished batch 2\n",
            "Training: Starting batch 3\n",
            "Training: Finished batch 3\n",
            "Finished epoch 1\n",
            "4/4 [==============================] - 0s 5ms/step - loss: 0.9382\n",
            "Starting epoch 2\n",
            "Epoch 3/3\n",
            "Training: Starting batch 0\n",
            "Training: Finished batch 0\n",
            "1/4 [======>.......................] - ETA: 0s - loss: 1.0076Training: Starting batch 1\n",
            "Training: Finished batch 1\n",
            "Training: Starting batch 2\n",
            "Training: Finished batch 2\n",
            "Training: Starting batch 3\n",
            "Training: Finished batch 3\n",
            "Finished epoch 2\n",
            "4/4 [==============================] - 0s 5ms/step - loss: 0.9203\n",
            "Finished training!\n"
          ],
          "name": "stdout"
        },
        {
          "output_type": "execute_result",
          "data": {
            "text/plain": [
              "<tensorflow.python.keras.callbacks.History at 0x7ff8b13d6518>"
            ]
          },
          "metadata": {
            "tags": []
          },
          "execution_count": 58
        }
      ]
    },
    {
      "cell_type": "code",
      "metadata": {
        "id": "8iCpW-hJ7H5Z",
        "colab_type": "code",
        "outputId": "a8210140-5401-40c1-98b6-df3398fd0896",
        "colab": {
          "base_uri": "https://localhost:8080/",
          "height": 153
        }
      },
      "source": [
        "# Evaluate the model\n",
        "model.evaluate(test_data, test_targets, callbacks=[TestingCallback()])"
      ],
      "execution_count": 0,
      "outputs": [
        {
          "output_type": "stream",
          "text": [
            "Starting testing...\n",
            "Testing: Starting batch 0\n",
            "Testing: Finished batch 0\n",
            "1/2 [==============>...............] - ETA: 0s - loss: 0.8195Testing: Starting batch 1\n",
            "Testing: Finished batch 1\n",
            "Finished testing!\n",
            "2/2 [==============================] - 0s 3ms/step - loss: 0.8986\n"
          ],
          "name": "stdout"
        },
        {
          "output_type": "execute_result",
          "data": {
            "text/plain": [
              "0.8986217379570007"
            ]
          },
          "metadata": {
            "tags": []
          },
          "execution_count": 59
        }
      ]
    },
    {
      "cell_type": "code",
      "metadata": {
        "id": "a4f3h31Ar6Yr",
        "colab_type": "code",
        "colab": {}
      },
      "source": [
        " class PredictionCallback(Callback):\n",
        "\n",
        "  def on_predict_begin(self, logs=None):\n",
        "    print('Starting predicing...')\n",
        "  \n",
        "  def on_test_predic_begin(self, batch, logs=None):\n",
        "    print(f'Predicing: Starting batch {batch}')\n",
        "  \n",
        "  def on_test_predic_end(self, batch, logs=None):\n",
        "    print(f'Predicing: Finished batch {batch}')\n",
        "  \n",
        "  def on_predic_end(sefl, logs=None):\n",
        "    print('Finished Predicing!')"
      ],
      "execution_count": 0,
      "outputs": []
    },
    {
      "cell_type": "code",
      "metadata": {
        "id": "Ljvd5KCM7H5d",
        "colab_type": "code",
        "outputId": "d673c6ba-ca6c-499c-ac6b-5fa3760f1cb6",
        "colab": {
          "base_uri": "https://localhost:8080/",
          "height": 799
        }
      },
      "source": [
        "# Make predictions with the model\n",
        "model.predict(test_data, callbacks=[PredictionCallback()])"
      ],
      "execution_count": 0,
      "outputs": [
        {
          "output_type": "stream",
          "text": [
            "Starting predicing...\n"
          ],
          "name": "stdout"
        },
        {
          "output_type": "execute_result",
          "data": {
            "text/plain": [
              "array([[ 0.02732543],\n",
              "       [ 0.02137152],\n",
              "       [ 0.04029779],\n",
              "       [ 0.07286678],\n",
              "       [ 0.15121531],\n",
              "       [-0.01585299],\n",
              "       [ 0.15077063],\n",
              "       [ 0.07837333],\n",
              "       [ 0.01898672],\n",
              "       [ 0.04353425],\n",
              "       [ 0.15613246],\n",
              "       [ 0.09027264],\n",
              "       [-0.00113728],\n",
              "       [ 0.114168  ],\n",
              "       [ 0.13303347],\n",
              "       [-0.0192655 ],\n",
              "       [ 0.12666675],\n",
              "       [ 0.00102235],\n",
              "       [-0.01630171],\n",
              "       [ 0.12857792],\n",
              "       [ 0.11230619],\n",
              "       [-0.01497575],\n",
              "       [ 0.03676221],\n",
              "       [ 0.0869849 ],\n",
              "       [ 0.03271674],\n",
              "       [ 0.04173081],\n",
              "       [-0.00467347],\n",
              "       [ 0.10531923],\n",
              "       [ 0.11275423],\n",
              "       [-0.01140966],\n",
              "       [ 0.02505879],\n",
              "       [ 0.1277159 ],\n",
              "       [ 0.06542011],\n",
              "       [ 0.00465408],\n",
              "       [ 0.09644634],\n",
              "       [ 0.10690457],\n",
              "       [ 0.10793957],\n",
              "       [ 0.02668918],\n",
              "       [ 0.04535607],\n",
              "       [ 0.07237206],\n",
              "       [ 0.07514898],\n",
              "       [ 0.11192812],\n",
              "       [ 0.10105938],\n",
              "       [ 0.15206257],\n",
              "       [ 0.1346633 ]], dtype=float32)"
            ]
          },
          "metadata": {
            "tags": []
          },
          "execution_count": 61
        }
      ]
    },
    {
      "cell_type": "markdown",
      "metadata": {
        "id": "Lo9H8-Yu7H5g",
        "colab_type": "text"
      },
      "source": [
        "***\n",
        "<a id=\"coding_tutorial_4\"></a>\n",
        "## Early stopping / patience"
      ]
    },
    {
      "cell_type": "markdown",
      "metadata": {
        "id": "8MitXLUW7H5g",
        "colab_type": "text"
      },
      "source": [
        "#### Re-train the models with early stopping"
      ]
    },
    {
      "cell_type": "code",
      "metadata": {
        "id": "k6QR9JEa7H5h",
        "colab_type": "code",
        "outputId": "b69c8c33-1892-427f-d275-e72b57082f41",
        "colab": {
          "base_uri": "https://localhost:8080/",
          "height": 255
        }
      },
      "source": [
        "# Re-train the unregularised model\n",
        "unregularised_model = get_model()\n",
        "unregularised_model.compile(optimizer='adam', loss='mse')\n",
        "unreg_history = unregularised_model.fit(train_data, train_targets, epochs=100, validation_split=0.15,\n",
        "                                        batch_size=64, \n",
        "                                        callbacks=[tf.keras.callbacks.EarlyStopping(patience=2)])"
      ],
      "execution_count": 0,
      "outputs": [
        {
          "output_type": "stream",
          "text": [
            "Epoch 1/100\n",
            "6/6 [==============================] - 0s 19ms/step - loss: 0.9873 - val_loss: 1.0101\n",
            "Epoch 2/100\n",
            "6/6 [==============================] - 0s 7ms/step - loss: 0.8977 - val_loss: 0.8421\n",
            "Epoch 3/100\n",
            "6/6 [==============================] - 0s 7ms/step - loss: 0.7043 - val_loss: 0.5674\n",
            "Epoch 4/100\n",
            "6/6 [==============================] - 0s 7ms/step - loss: 0.5987 - val_loss: 0.5661\n",
            "Epoch 5/100\n",
            "6/6 [==============================] - 0s 7ms/step - loss: 0.5956 - val_loss: 0.4563\n",
            "Epoch 6/100\n",
            "6/6 [==============================] - 0s 8ms/step - loss: 0.5369 - val_loss: 0.5091\n",
            "Epoch 7/100\n",
            "6/6 [==============================] - 0s 8ms/step - loss: 0.4917 - val_loss: 0.4699\n"
          ],
          "name": "stdout"
        }
      ]
    },
    {
      "cell_type": "code",
      "metadata": {
        "id": "1GJwI2kd7H5j",
        "colab_type": "code",
        "outputId": "561eb24b-301d-470a-daa5-66f76a6e6f9f",
        "colab": {
          "base_uri": "https://localhost:8080/",
          "height": 51
        }
      },
      "source": [
        "# Evaluate the model on the test set\n",
        "unregularised_model.evaluate(test_data, test_targets)"
      ],
      "execution_count": 0,
      "outputs": [
        {
          "output_type": "stream",
          "text": [
            "2/2 [==============================] - 0s 3ms/step - loss: 0.3904\n"
          ],
          "name": "stdout"
        },
        {
          "output_type": "execute_result",
          "data": {
            "text/plain": [
              "0.39039450883865356"
            ]
          },
          "metadata": {
            "tags": []
          },
          "execution_count": 74
        }
      ]
    },
    {
      "cell_type": "code",
      "metadata": {
        "id": "5fFAlPXw7H5p",
        "colab_type": "code",
        "outputId": "0753381d-f9d7-4fc8-d37f-982d0cbc2c9f",
        "colab": {
          "base_uri": "https://localhost:8080/",
          "height": 255
        }
      },
      "source": [
        "# Re-train the regularised model\n",
        "regularised_model = get_regularised_model(1e-8, 0.2)\n",
        "regularised_model.compile(optimizer='adam', loss='mse')\n",
        "reg_history = regularised_model.fit(train_data, train_targets, epochs=100, validation_split=0.15,\n",
        "                                    batch_size=64, \n",
        "                                    callbacks=[tf.keras.callbacks.EarlyStopping(patience=2)])"
      ],
      "execution_count": 0,
      "outputs": [
        {
          "output_type": "stream",
          "text": [
            "Epoch 1/100\n",
            "6/6 [==============================] - 0s 26ms/step - loss: 0.9582 - val_loss: 1.0237\n",
            "Epoch 2/100\n",
            "6/6 [==============================] - 0s 8ms/step - loss: 0.9738 - val_loss: 0.8875\n",
            "Epoch 3/100\n",
            "6/6 [==============================] - 0s 8ms/step - loss: 0.8190 - val_loss: 0.6264\n",
            "Epoch 4/100\n",
            "6/6 [==============================] - 0s 8ms/step - loss: 0.6720 - val_loss: 0.4626\n",
            "Epoch 5/100\n",
            "6/6 [==============================] - 0s 8ms/step - loss: 0.6463 - val_loss: 0.4163\n",
            "Epoch 6/100\n",
            "6/6 [==============================] - 0s 9ms/step - loss: 0.6204 - val_loss: 0.4442\n",
            "Epoch 7/100\n",
            "6/6 [==============================] - 0s 8ms/step - loss: 0.6360 - val_loss: 0.4670\n"
          ],
          "name": "stdout"
        }
      ]
    },
    {
      "cell_type": "code",
      "metadata": {
        "id": "rckM_pof7H5v",
        "colab_type": "code",
        "outputId": "420093b7-3920-459b-f3da-43e78b813c95",
        "colab": {
          "base_uri": "https://localhost:8080/",
          "height": 51
        }
      },
      "source": [
        "# Evaluate the model on the test set\n",
        "regularised_model.evaluate(test_data, test_targets)"
      ],
      "execution_count": 0,
      "outputs": [
        {
          "output_type": "stream",
          "text": [
            "2/2 [==============================] - 0s 2ms/step - loss: 0.4011\n"
          ],
          "name": "stdout"
        },
        {
          "output_type": "execute_result",
          "data": {
            "text/plain": [
              "0.40111029148101807"
            ]
          },
          "metadata": {
            "tags": []
          },
          "execution_count": 76
        }
      ]
    },
    {
      "cell_type": "markdown",
      "metadata": {
        "id": "3sgSNLvd7H50",
        "colab_type": "text"
      },
      "source": [
        "#### Plot the learning curves"
      ]
    },
    {
      "cell_type": "code",
      "metadata": {
        "id": "idbycQQ_7H50",
        "colab_type": "code",
        "outputId": "441484ac-3b6d-4c0a-f6d8-7103a38e3122",
        "colab": {
          "base_uri": "https://localhost:8080/",
          "height": 350
        }
      },
      "source": [
        "# Plot the training and validation loss\n",
        "\n",
        "import matplotlib.pyplot as plt\n",
        "\n",
        "fig = plt.figure(figsize=(12, 5))\n",
        "\n",
        "fig.add_subplot(121)\n",
        "\n",
        "plt.plot(unreg_history.history['loss'])\n",
        "plt.plot(unreg_history.history['val_loss'])\n",
        "plt.title('Unregularised model: loss vs. epochs')\n",
        "plt.ylabel('Loss')\n",
        "plt.xlabel('Epoch')\n",
        "plt.legend(['Training', 'Validation'], loc='upper right')\n",
        "\n",
        "fig.add_subplot(122)\n",
        "\n",
        "plt.plot(reg_history.history['loss'])\n",
        "plt.plot(reg_history.history['val_loss'])\n",
        "plt.title('Regularised model: loss vs. epochs')\n",
        "plt.ylabel('Loss')\n",
        "plt.xlabel('Epoch')\n",
        "plt.legend(['Training', 'Validation'], loc='upper right')\n",
        "\n",
        "plt.show()"
      ],
      "execution_count": 0,
      "outputs": [
        {
          "output_type": "display_data",
          "data": {
            "image/png": "[encoded data removed]",
            "text/plain": [
              "<Figure size 864x360 with 2 Axes>"
            ]
          },
          "metadata": {
            "tags": [],
            "needs_background": "light"
          }
        }
      ]
    },
    {
      "cell_type": "code",
      "metadata": {
        "id": "E9Gz_HsD6pjD",
        "colab_type": "code",
        "colab": {}
      },
      "source": [
        ""
      ],
      "execution_count": 0,
      "outputs": []
    }
  ]
}