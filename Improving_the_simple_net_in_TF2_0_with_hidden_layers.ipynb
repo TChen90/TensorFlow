{
  "nbformat": 4,
  "nbformat_minor": 0,
  "metadata": {
    "colab": {
      "name": "Improving the simple net in TF2.0 with hidden layers.ipynb",
      "provenance": [],
      "authorship_tag": "ABX9TyMCGpCvDdAV+xPcsMwc0jwe",
      "include_colab_link": true
    },
    "kernelspec": {
      "name": "python3",
      "display_name": "Python 3"
    }
  },
  "cells": [
    {
      "cell_type": "markdown",
      "metadata": {
        "id": "view-in-github",
        "colab_type": "text"
      },
      "source": [
        "<a href=\"https://colab.research.google.com/github/TChen90/TensorFlow/blob/master/Improving_the_simple_net_in_TF2_0_with_hidden_layers.ipynb\" target=\"_parent\"><img src=\"https://colab.research.google.com/assets/colab-badge.svg\" alt=\"Open In Colab\"/></a>"
      ]
    },
    {
      "cell_type": "code",
      "metadata": {
        "id": "5Bynu3kQxMQD",
        "colab_type": "code",
        "colab": {}
      },
      "source": [
        "import tensorflow as tf\n",
        "from tensorflow import keras\n",
        "import matplotlib.pyplot as plt"
      ],
      "execution_count": 0,
      "outputs": []
    },
    {
      "cell_type": "code",
      "metadata": {
        "id": "0tElq14Xxbsu",
        "colab_type": "code",
        "colab": {}
      },
      "source": [
        "# Load the MNIST dataset\n",
        "mnist = keras.datasets.mnist\n",
        "(X_train, y_train), (X_test, y_test) = mnist.load_data()"
      ],
      "execution_count": 0,
      "outputs": []
    },
    {
      "cell_type": "code",
      "metadata": {
        "id": "rI2mKbpqx4fe",
        "colab_type": "code",
        "colab": {
          "base_uri": "https://localhost:8080/",
          "height": 35
        },
        "outputId": "b2e7767d-20fa-43d4-b550-b9d5073faf72"
      },
      "source": [
        "# X_train is 60,000 rows of 28*28 values\n",
        "X_train.shape"
      ],
      "execution_count": 3,
      "outputs": [
        {
          "output_type": "execute_result",
          "data": {
            "text/plain": [
              "(60000, 28, 28)"
            ]
          },
          "metadata": {
            "tags": []
          },
          "execution_count": 3
        }
      ]
    },
    {
      "cell_type": "code",
      "metadata": {
        "id": "vDe96dpkx7aN",
        "colab_type": "code",
        "colab": {
          "base_uri": "https://localhost:8080/",
          "height": 265
        },
        "outputId": "8cd001be-5699-49de-ffe1-029bea433b5f"
      },
      "source": [
        "# A sample digit\n",
        "digit = X_train[4]\n",
        "plt.imshow(digit, cmap=plt.cm.binary)\n",
        "plt.show()"
      ],
      "execution_count": 4,
      "outputs": [
        {
          "output_type": "display_data",
          "data": {
            "image/png": "[encoded data removed]",
            "text/plain": [
              "<Figure size 432x288 with 1 Axes>"
            ]
          },
          "metadata": {
            "tags": [],
            "needs_background": "light"
          }
        }
      ]
    },
    {
      "cell_type": "code",
      "metadata": {
        "id": "eLy-19ciysur",
        "colab_type": "code",
        "colab": {
          "base_uri": "https://localhost:8080/",
          "height": 35
        },
        "outputId": "c400217c-2546-4a9e-f2a6-191afdc32001"
      },
      "source": [
        "print(y_train[4])"
      ],
      "execution_count": 5,
      "outputs": [
        {
          "output_type": "stream",
          "text": [
            "9\n"
          ],
          "name": "stdout"
        }
      ]
    },
    {
      "cell_type": "code",
      "metadata": {
        "id": "9zeMX1_4yyvd",
        "colab_type": "code",
        "colab": {}
      },
      "source": [
        "# Reshape\n",
        "X_train = X_train.reshape(60000, 784).astype('float32')\n",
        "X_test = X_test.reshape(10000, 784).astype('float32')"
      ],
      "execution_count": 0,
      "outputs": []
    },
    {
      "cell_type": "code",
      "metadata": {
        "id": "UtqPYCJ8zoTb",
        "colab_type": "code",
        "colab": {
          "base_uri": "https://localhost:8080/",
          "height": 54
        },
        "outputId": "85269cf8-dd6a-4d6a-d427-6c25b9830d51"
      },
      "source": [
        "# Normalize inputs to be within [0, 1]\n",
        "X_train, X_test = X_train/255.0, X_test/255.0\n",
        "print(X_train.shape[0], 'train samples')\n",
        "print(X_test.shape[0], 'test samples')"
      ],
      "execution_count": 7,
      "outputs": [
        {
          "output_type": "stream",
          "text": [
            "60000 train samples\n",
            "10000 test samples\n"
          ],
          "name": "stdout"
        }
      ]
    },
    {
      "cell_type": "code",
      "metadata": {
        "id": "QiR-c2_s03il",
        "colab_type": "code",
        "colab": {}
      },
      "source": [
        "# Labes have one-hot representation\n",
        "y_train = tf.keras.utils.to_categorical(y_train, 10)\n",
        "y_test = tf.keras.utils.to_categorical(y_test, 10)"
      ],
      "execution_count": 0,
      "outputs": []
    },
    {
      "cell_type": "code",
      "metadata": {
        "id": "qKarMYZm19jg",
        "colab_type": "code",
        "colab": {}
      },
      "source": [
        "# Build the model\n",
        "model = tf.keras.models.Sequential()\n",
        "model.add(keras.layers.Dense(128, activation='relu', input_shape=(784,), name='dense_layer'))\n",
        "model.add(keras.layers.Dense(128, activation='relu', name='dense_layer2'))\n",
        "model.add(keras.layers.Dense(10, activation='softmax', name='dense_layer3'))"
      ],
      "execution_count": 0,
      "outputs": []
    },
    {
      "cell_type": "code",
      "metadata": {
        "id": "W1svss-52pdr",
        "colab_type": "code",
        "colab": {
          "base_uri": "https://localhost:8080/",
          "height": 274
        },
        "outputId": "d02be3bf-8baa-4add-fdf1-9294f3f8600d"
      },
      "source": [
        "# Summary of the model\n",
        "model.summary()"
      ],
      "execution_count": 10,
      "outputs": [
        {
          "output_type": "stream",
          "text": [
            "Model: \"sequential\"\n",
            "_________________________________________________________________\n",
            "Layer (type)                 Output Shape              Param #   \n",
            "=================================================================\n",
            "dense_layer (Dense)          (None, 128)               100480    \n",
            "_________________________________________________________________\n",
            "dense_layer2 (Dense)         (None, 128)               16512     \n",
            "_________________________________________________________________\n",
            "dense_layer3 (Dense)         (None, 10)                1290      \n",
            "=================================================================\n",
            "Total params: 118,282\n",
            "Trainable params: 118,282\n",
            "Non-trainable params: 0\n",
            "_________________________________________________________________\n"
          ],
          "name": "stdout"
        }
      ]
    },
    {
      "cell_type": "code",
      "metadata": {
        "id": "s6t64rOK2skT",
        "colab_type": "code",
        "colab": {}
      },
      "source": [
        "# Compiling the model\n",
        "model.compile(optimizer='SGD', loss='categorical_crossentropy', metrics=['accuracy'])"
      ],
      "execution_count": 0,
      "outputs": []
    },
    {
      "cell_type": "code",
      "metadata": {
        "id": "57eHaRKG26aF",
        "colab_type": "code",
        "colab": {
          "base_uri": "https://localhost:8080/",
          "height": 1000
        },
        "outputId": "cbfdc65a-d9fb-44ff-b033-bff30fe3d803"
      },
      "source": [
        "# Train the model\n",
        "model.fit(X_train, y_train, batch_size=128, epochs=50, verbose=1, validation_split=0.2)"
      ],
      "execution_count": 12,
      "outputs": [
        {
          "output_type": "stream",
          "text": [
            "Epoch 1/50\n",
            "375/375 [==============================] - 1s 4ms/step - loss: 1.4715 - accuracy: 0.6205 - val_loss: 0.7579 - val_accuracy: 0.8331\n",
            "Epoch 2/50\n",
            "375/375 [==============================] - 1s 3ms/step - loss: 0.6034 - accuracy: 0.8483 - val_loss: 0.4573 - val_accuracy: 0.8823\n",
            "Epoch 3/50\n",
            "375/375 [==============================] - 1s 3ms/step - loss: 0.4402 - accuracy: 0.8811 - val_loss: 0.3743 - val_accuracy: 0.8979\n",
            "Epoch 4/50\n",
            "375/375 [==============================] - 1s 3ms/step - loss: 0.3784 - accuracy: 0.8945 - val_loss: 0.3345 - val_accuracy: 0.9076\n",
            "Epoch 5/50\n",
            "375/375 [==============================] - 1s 3ms/step - loss: 0.3442 - accuracy: 0.9019 - val_loss: 0.3099 - val_accuracy: 0.9114\n",
            "Epoch 6/50\n",
            "375/375 [==============================] - 1s 3ms/step - loss: 0.3205 - accuracy: 0.9087 - val_loss: 0.2928 - val_accuracy: 0.9170\n",
            "Epoch 7/50\n",
            "375/375 [==============================] - 1s 3ms/step - loss: 0.3027 - accuracy: 0.9138 - val_loss: 0.2804 - val_accuracy: 0.9174\n",
            "Epoch 8/50\n",
            "375/375 [==============================] - 1s 3ms/step - loss: 0.2882 - accuracy: 0.9174 - val_loss: 0.2683 - val_accuracy: 0.9229\n",
            "Epoch 9/50\n",
            "375/375 [==============================] - 1s 3ms/step - loss: 0.2760 - accuracy: 0.9206 - val_loss: 0.2572 - val_accuracy: 0.9267\n",
            "Epoch 10/50\n",
            "375/375 [==============================] - 1s 3ms/step - loss: 0.2647 - accuracy: 0.9245 - val_loss: 0.2488 - val_accuracy: 0.9284\n",
            "Epoch 11/50\n",
            "375/375 [==============================] - 1s 3ms/step - loss: 0.2551 - accuracy: 0.9271 - val_loss: 0.2416 - val_accuracy: 0.9308\n",
            "Epoch 12/50\n",
            "375/375 [==============================] - 1s 3ms/step - loss: 0.2458 - accuracy: 0.9301 - val_loss: 0.2335 - val_accuracy: 0.9333\n",
            "Epoch 13/50\n",
            "375/375 [==============================] - 1s 3ms/step - loss: 0.2380 - accuracy: 0.9317 - val_loss: 0.2267 - val_accuracy: 0.9356\n",
            "Epoch 14/50\n",
            "375/375 [==============================] - 1s 3ms/step - loss: 0.2299 - accuracy: 0.9341 - val_loss: 0.2209 - val_accuracy: 0.9368\n",
            "Epoch 15/50\n",
            "375/375 [==============================] - 1s 3ms/step - loss: 0.2232 - accuracy: 0.9366 - val_loss: 0.2157 - val_accuracy: 0.9391\n",
            "Epoch 16/50\n",
            "375/375 [==============================] - 1s 3ms/step - loss: 0.2165 - accuracy: 0.9383 - val_loss: 0.2106 - val_accuracy: 0.9417\n",
            "Epoch 17/50\n",
            "375/375 [==============================] - 1s 3ms/step - loss: 0.2102 - accuracy: 0.9402 - val_loss: 0.2050 - val_accuracy: 0.9434\n",
            "Epoch 18/50\n",
            "375/375 [==============================] - 1s 3ms/step - loss: 0.2044 - accuracy: 0.9420 - val_loss: 0.2013 - val_accuracy: 0.9438\n",
            "Epoch 19/50\n",
            "375/375 [==============================] - 1s 3ms/step - loss: 0.1986 - accuracy: 0.9432 - val_loss: 0.1961 - val_accuracy: 0.9452\n",
            "Epoch 20/50\n",
            "375/375 [==============================] - 1s 3ms/step - loss: 0.1936 - accuracy: 0.9452 - val_loss: 0.1915 - val_accuracy: 0.9472\n",
            "Epoch 21/50\n",
            "375/375 [==============================] - 1s 3ms/step - loss: 0.1885 - accuracy: 0.9466 - val_loss: 0.1883 - val_accuracy: 0.9467\n",
            "Epoch 22/50\n",
            "375/375 [==============================] - 1s 3ms/step - loss: 0.1836 - accuracy: 0.9478 - val_loss: 0.1846 - val_accuracy: 0.9483\n",
            "Epoch 23/50\n",
            "375/375 [==============================] - 1s 3ms/step - loss: 0.1790 - accuracy: 0.9493 - val_loss: 0.1816 - val_accuracy: 0.9496\n",
            "Epoch 24/50\n",
            "375/375 [==============================] - 1s 3ms/step - loss: 0.1746 - accuracy: 0.9504 - val_loss: 0.1766 - val_accuracy: 0.9499\n",
            "Epoch 25/50\n",
            "375/375 [==============================] - 1s 3ms/step - loss: 0.1702 - accuracy: 0.9519 - val_loss: 0.1751 - val_accuracy: 0.9498\n",
            "Epoch 26/50\n",
            "375/375 [==============================] - 1s 3ms/step - loss: 0.1665 - accuracy: 0.9534 - val_loss: 0.1708 - val_accuracy: 0.9521\n",
            "Epoch 27/50\n",
            "375/375 [==============================] - 1s 3ms/step - loss: 0.1624 - accuracy: 0.9542 - val_loss: 0.1685 - val_accuracy: 0.9527\n",
            "Epoch 28/50\n",
            "375/375 [==============================] - 1s 3ms/step - loss: 0.1587 - accuracy: 0.9553 - val_loss: 0.1651 - val_accuracy: 0.9524\n",
            "Epoch 29/50\n",
            "375/375 [==============================] - 1s 3ms/step - loss: 0.1553 - accuracy: 0.9566 - val_loss: 0.1634 - val_accuracy: 0.9543\n",
            "Epoch 30/50\n",
            "375/375 [==============================] - 1s 3ms/step - loss: 0.1518 - accuracy: 0.9576 - val_loss: 0.1611 - val_accuracy: 0.9540\n",
            "Epoch 31/50\n",
            "375/375 [==============================] - 1s 3ms/step - loss: 0.1484 - accuracy: 0.9588 - val_loss: 0.1587 - val_accuracy: 0.9553\n",
            "Epoch 32/50\n",
            "375/375 [==============================] - 1s 3ms/step - loss: 0.1450 - accuracy: 0.9595 - val_loss: 0.1557 - val_accuracy: 0.9567\n",
            "Epoch 33/50\n",
            "375/375 [==============================] - 1s 3ms/step - loss: 0.1423 - accuracy: 0.9600 - val_loss: 0.1539 - val_accuracy: 0.9563\n",
            "Epoch 34/50\n",
            "375/375 [==============================] - 1s 3ms/step - loss: 0.1394 - accuracy: 0.9610 - val_loss: 0.1513 - val_accuracy: 0.9575\n",
            "Epoch 35/50\n",
            "375/375 [==============================] - 1s 3ms/step - loss: 0.1364 - accuracy: 0.9618 - val_loss: 0.1488 - val_accuracy: 0.9588\n",
            "Epoch 36/50\n",
            "375/375 [==============================] - 1s 3ms/step - loss: 0.1338 - accuracy: 0.9629 - val_loss: 0.1472 - val_accuracy: 0.9588\n",
            "Epoch 37/50\n",
            "375/375 [==============================] - 1s 3ms/step - loss: 0.1312 - accuracy: 0.9630 - val_loss: 0.1461 - val_accuracy: 0.9588\n",
            "Epoch 38/50\n",
            "375/375 [==============================] - 1s 3ms/step - loss: 0.1285 - accuracy: 0.9639 - val_loss: 0.1444 - val_accuracy: 0.9591\n",
            "Epoch 39/50\n",
            "375/375 [==============================] - 1s 3ms/step - loss: 0.1263 - accuracy: 0.9640 - val_loss: 0.1427 - val_accuracy: 0.9606\n",
            "Epoch 40/50\n",
            "375/375 [==============================] - 1s 3ms/step - loss: 0.1238 - accuracy: 0.9648 - val_loss: 0.1407 - val_accuracy: 0.9618\n",
            "Epoch 41/50\n",
            "375/375 [==============================] - 1s 3ms/step - loss: 0.1215 - accuracy: 0.9657 - val_loss: 0.1387 - val_accuracy: 0.9617\n",
            "Epoch 42/50\n",
            "375/375 [==============================] - 1s 3ms/step - loss: 0.1192 - accuracy: 0.9664 - val_loss: 0.1376 - val_accuracy: 0.9620\n",
            "Epoch 43/50\n",
            "375/375 [==============================] - 1s 3ms/step - loss: 0.1172 - accuracy: 0.9669 - val_loss: 0.1367 - val_accuracy: 0.9617\n",
            "Epoch 44/50\n",
            "375/375 [==============================] - 1s 3ms/step - loss: 0.1152 - accuracy: 0.9676 - val_loss: 0.1345 - val_accuracy: 0.9627\n",
            "Epoch 45/50\n",
            "375/375 [==============================] - 1s 3ms/step - loss: 0.1130 - accuracy: 0.9682 - val_loss: 0.1333 - val_accuracy: 0.9625\n",
            "Epoch 46/50\n",
            "375/375 [==============================] - 1s 3ms/step - loss: 0.1108 - accuracy: 0.9690 - val_loss: 0.1327 - val_accuracy: 0.9635\n",
            "Epoch 47/50\n",
            "375/375 [==============================] - 1s 3ms/step - loss: 0.1091 - accuracy: 0.9693 - val_loss: 0.1306 - val_accuracy: 0.9645\n",
            "Epoch 48/50\n",
            "375/375 [==============================] - 1s 3ms/step - loss: 0.1072 - accuracy: 0.9698 - val_loss: 0.1288 - val_accuracy: 0.9653\n",
            "Epoch 49/50\n",
            "375/375 [==============================] - 1s 3ms/step - loss: 0.1055 - accuracy: 0.9707 - val_loss: 0.1290 - val_accuracy: 0.9643\n",
            "Epoch 50/50\n",
            "375/375 [==============================] - 1s 3ms/step - loss: 0.1036 - accuracy: 0.9714 - val_loss: 0.1284 - val_accuracy: 0.9634\n"
          ],
          "name": "stdout"
        },
        {
          "output_type": "execute_result",
          "data": {
            "text/plain": [
              "<tensorflow.python.keras.callbacks.History at 0x7f74e8e41080>"
            ]
          },
          "metadata": {
            "tags": []
          },
          "execution_count": 12
        }
      ]
    },
    {
      "cell_type": "code",
      "metadata": {
        "id": "dWvijvET3K11",
        "colab_type": "code",
        "colab": {
          "base_uri": "https://localhost:8080/",
          "height": 54
        },
        "outputId": "cd7c993a-100c-4b82-84ca-a084e667fee9"
      },
      "source": [
        "# Evaluate the model\n",
        "test_loss, test_acc = model.evaluate(X_test, y_test)\n",
        "print('Test accuracy: ', test_acc)"
      ],
      "execution_count": 13,
      "outputs": [
        {
          "output_type": "stream",
          "text": [
            "313/313 [==============================] - 0s 1ms/step - loss: 0.1226 - accuracy: 0.9642\n",
            "Test accuracy:  0.9642000198364258\n"
          ],
          "name": "stdout"
        }
      ]
    },
    {
      "cell_type": "code",
      "metadata": {
        "id": "wQy2lsAf3sFa",
        "colab_type": "code",
        "colab": {}
      },
      "source": [
        ""
      ],
      "execution_count": 0,
      "outputs": []
    }
  ]
}