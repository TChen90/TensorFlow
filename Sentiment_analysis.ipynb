{
  "nbformat": 4,
  "nbformat_minor": 0,
  "metadata": {
    "colab": {
      "name": "Sentiment analysis.ipynb",
      "provenance": [],
      "authorship_tag": "ABX9TyP2eDPO5RnJZhsBPT/rKGsQ",
      "include_colab_link": true
    },
    "kernelspec": {
      "name": "python3",
      "display_name": "Python 3"
    }
  },
  "cells": [
    {
      "cell_type": "markdown",
      "metadata": {
        "id": "view-in-github",
        "colab_type": "text"
      },
      "source": [
        "<a href=\"https://colab.research.google.com/github/TChen90/TensorFlow/blob/master/Sentiment_analysis.ipynb\" target=\"_parent\"><img src=\"https://colab.research.google.com/assets/colab-badge.svg\" alt=\"Open In Colab\"/></a>"
      ]
    },
    {
      "cell_type": "code",
      "metadata": {
        "id": "w4u-Am7VJNJU",
        "colab_type": "code",
        "colab": {}
      },
      "source": [
        "import tensorflow as tf\n",
        "from tensorflow.keras import datasets, layers, models, preprocessing\n",
        "import tensorflow_datasets as tfds"
      ],
      "execution_count": 0,
      "outputs": []
    },
    {
      "cell_type": "code",
      "metadata": {
        "id": "XnhofGBrJxpt",
        "colab_type": "code",
        "colab": {}
      },
      "source": [
        "def load_data():\n",
        "  # load data\n",
        "  (X_train, y_train), (X_test, y_test) = datasets.imdb.load_data(num_words=10000)\n",
        "  X_train = preprocessing.sequence.pad_sequences(X_train, maxlen=200)\n",
        "  X_test = preprocessing.sequence.pad_sequences(X_test, maxlen=200)\n",
        "  return (X_train, y_train), (X_test, y_test)"
      ],
      "execution_count": 0,
      "outputs": []
    },
    {
      "cell_type": "code",
      "metadata": {
        "id": "iKbicHY_K4g5",
        "colab_type": "code",
        "colab": {}
      },
      "source": [
        "def build_model():\n",
        "  model = models.Sequential()\n",
        "  # Input: - eEmbedding Layer.\n",
        "  # The model will take as input an integer matrix of size (batch, input_length).\n",
        "  # The model will output dimension (input_length, dim_embedding).\n",
        "  # The largest integer in the input should be no larger\n",
        "  # than n_words (vocabulary size).\n",
        "  model.add(layers.Embedding(10000, 256, input_length=200))\n",
        "  model.add(layers.Dropout(0.3))\n",
        "  # Takes the maximum value of either feature vector from each of # the n_words features.\n",
        "  model.add(layers.GlobalMaxPool1D())\n",
        "  model.add(layers.Dense(128,activation='relu'))\n",
        "  model.add(layers.Dropout(0.5))\n",
        "  model.add(layers.Dense(1, activation='sigmoid'))\n",
        "\n",
        "  return model"
      ],
      "execution_count": 0,
      "outputs": []
    },
    {
      "cell_type": "code",
      "metadata": {
        "id": "l46ly83iNyn_",
        "colab_type": "code",
        "colab": {
          "base_uri": "https://localhost:8080/",
          "height": 384
        },
        "outputId": "ecf037e2-4b0e-4fb2-fb69-6d40e14a6c13"
      },
      "source": [
        "(X_train, y_train), (X_test, y_test) = load_data() \n",
        "model = build_model()\n",
        "model.summary()"
      ],
      "execution_count": 4,
      "outputs": [
        {
          "output_type": "stream",
          "text": [
            "Model: \"sequential\"\n",
            "_________________________________________________________________\n",
            "Layer (type)                 Output Shape              Param #   \n",
            "=================================================================\n",
            "embedding (Embedding)        (None, 200, 256)          2560000   \n",
            "_________________________________________________________________\n",
            "dropout (Dropout)            (None, 200, 256)          0         \n",
            "_________________________________________________________________\n",
            "global_max_pooling1d (Global (None, 256)               0         \n",
            "_________________________________________________________________\n",
            "dense (Dense)                (None, 128)               32896     \n",
            "_________________________________________________________________\n",
            "dropout_1 (Dropout)          (None, 128)               0         \n",
            "_________________________________________________________________\n",
            "dense_1 (Dense)              (None, 1)                 129       \n",
            "=================================================================\n",
            "Total params: 2,593,025\n",
            "Trainable params: 2,593,025\n",
            "Non-trainable params: 0\n",
            "_________________________________________________________________\n"
          ],
          "name": "stdout"
        }
      ]
    },
    {
      "cell_type": "code",
      "metadata": {
        "id": "qIoH8PhGN4wZ",
        "colab_type": "code",
        "colab": {
          "base_uri": "https://localhost:8080/",
          "height": 825
        },
        "outputId": "61d4937d-4602-45f0-9f83-07d43c7d177c"
      },
      "source": [
        "model.compile(optimizer='adam', loss='binary_crossentropy', metrics=['accuracy'])\n",
        "score = model.fit(X_train, y_train, epochs=20, batch_size=500, validation_data=(X_test,y_test))\n",
        "score = model.evaluate(X_test, y_test, batch_size=500)\n",
        "print('\\nTest score: ', score[0])\n",
        "print('Test accuracy: ', score[1])"
      ],
      "execution_count": 5,
      "outputs": [
        {
          "output_type": "stream",
          "text": [
            "Epoch 1/20\n",
            "50/50 [==============================] - 24s 475ms/step - loss: 0.6698 - accuracy: 0.6354 - val_loss: 0.6260 - val_accuracy: 0.8303\n",
            "Epoch 2/20\n",
            "50/50 [==============================] - 24s 473ms/step - loss: 0.4569 - accuracy: 0.8354 - val_loss: 0.3629 - val_accuracy: 0.8564\n",
            "Epoch 3/20\n",
            "50/50 [==============================] - 24s 471ms/step - loss: 0.2787 - accuracy: 0.8872 - val_loss: 0.3037 - val_accuracy: 0.8759\n",
            "Epoch 4/20\n",
            "50/50 [==============================] - 23s 468ms/step - loss: 0.2148 - accuracy: 0.9173 - val_loss: 0.2901 - val_accuracy: 0.8792\n",
            "Epoch 5/20\n",
            "50/50 [==============================] - 24s 473ms/step - loss: 0.1700 - accuracy: 0.9396 - val_loss: 0.2891 - val_accuracy: 0.8773\n",
            "Epoch 6/20\n",
            "50/50 [==============================] - 24s 471ms/step - loss: 0.1333 - accuracy: 0.9558 - val_loss: 0.2945 - val_accuracy: 0.8747\n",
            "Epoch 7/20\n",
            "50/50 [==============================] - 23s 470ms/step - loss: 0.1016 - accuracy: 0.9680 - val_loss: 0.3058 - val_accuracy: 0.8692\n",
            "Epoch 8/20\n",
            "50/50 [==============================] - 23s 468ms/step - loss: 0.0781 - accuracy: 0.9774 - val_loss: 0.3246 - val_accuracy: 0.8641\n",
            "Epoch 9/20\n",
            "50/50 [==============================] - 24s 471ms/step - loss: 0.0597 - accuracy: 0.9836 - val_loss: 0.3396 - val_accuracy: 0.8609\n",
            "Epoch 10/20\n",
            "50/50 [==============================] - 24s 471ms/step - loss: 0.0429 - accuracy: 0.9896 - val_loss: 0.3572 - val_accuracy: 0.8586\n",
            "Epoch 11/20\n",
            "50/50 [==============================] - 24s 471ms/step - loss: 0.0319 - accuracy: 0.9938 - val_loss: 0.3748 - val_accuracy: 0.8564\n",
            "Epoch 12/20\n",
            "50/50 [==============================] - 24s 472ms/step - loss: 0.0242 - accuracy: 0.9954 - val_loss: 0.3920 - val_accuracy: 0.8546\n",
            "Epoch 13/20\n",
            "50/50 [==============================] - 24s 474ms/step - loss: 0.0191 - accuracy: 0.9967 - val_loss: 0.4121 - val_accuracy: 0.8537\n",
            "Epoch 14/20\n",
            "50/50 [==============================] - 24s 474ms/step - loss: 0.0151 - accuracy: 0.9974 - val_loss: 0.4296 - val_accuracy: 0.8515\n",
            "Epoch 15/20\n",
            "50/50 [==============================] - 24s 471ms/step - loss: 0.0125 - accuracy: 0.9979 - val_loss: 0.4436 - val_accuracy: 0.8510\n",
            "Epoch 16/20\n",
            "50/50 [==============================] - 24s 475ms/step - loss: 0.0108 - accuracy: 0.9980 - val_loss: 0.4547 - val_accuracy: 0.8507\n",
            "Epoch 17/20\n",
            "50/50 [==============================] - 24s 472ms/step - loss: 0.0092 - accuracy: 0.9982 - val_loss: 0.4707 - val_accuracy: 0.8492\n",
            "Epoch 18/20\n",
            "50/50 [==============================] - 24s 473ms/step - loss: 0.0083 - accuracy: 0.9986 - val_loss: 0.4842 - val_accuracy: 0.8486\n",
            "Epoch 19/20\n",
            "50/50 [==============================] - 24s 471ms/step - loss: 0.0066 - accuracy: 0.9990 - val_loss: 0.4957 - val_accuracy: 0.8470\n",
            "Epoch 20/20\n",
            "50/50 [==============================] - 23s 469ms/step - loss: 0.0054 - accuracy: 0.9992 - val_loss: 0.5171 - val_accuracy: 0.8467\n",
            "50/50 [==============================] - 2s 40ms/step - loss: 0.5171 - accuracy: 0.8467\n",
            "\n",
            "Test score:  0.5170524716377258\n",
            "Test accuracy:  0.8467199802398682\n"
          ],
          "name": "stdout"
        }
      ]
    },
    {
      "cell_type": "code",
      "metadata": {
        "id": "HyuHalsiR92H",
        "colab_type": "code",
        "colab": {}
      },
      "source": [
        ""
      ],
      "execution_count": 0,
      "outputs": []
    }
  ]
}